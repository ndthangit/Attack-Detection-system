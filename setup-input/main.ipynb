{
 "cells": [
  {
   "metadata": {
    "ExecuteTime": {
     "end_time": "2025-03-02T13:29:50.754942Z",
     "start_time": "2025-03-02T13:29:50.141694Z"
    }
   },
   "cell_type": "code",
   "source": [
    "import json\n",
    "import csv\n",
    "import re\n",
    "import pandas as pd"
   ],
   "id": "f47b7a3b54c0dfda",
   "outputs": [],
   "execution_count": 2
  },
  {
   "metadata": {
    "ExecuteTime": {
     "end_time": "2025-03-02T13:29:55.131138Z",
     "start_time": "2025-03-02T13:29:55.123487Z"
    }
   },
   "cell_type": "code",
   "source": [
    "def get_headers_from_csv(csv_file):\n",
    "    \"\"\"Lấy danh sách tiêu đề từ file CSV mẫu.\"\"\"\n",
    "    data = pd.read_csv(csv_file, nrows=0)\n",
    "    headers = data.columns.tolist()\n",
    "    return headers\n",
    "\n",
    "def split_log_line(headers, log_line, line_id):\n",
    "    \"\"\"Tách dòng log và chuyển thành JSON theo định dạng yêu cầu\"\"\"\n",
    "    parts = re.split(r'\\s+', log_line.strip())\n",
    "    log_block = {\n",
    "        headers[0]: line_id,\n",
    "        **{headers[i]: parts[i-1] for i in range(1, len(headers)-3)},\n",
    "        headers[-3]: \" \".join(parts[len(headers)-3:len(parts)]),\n",
    "    }\n",
    "    return log_block\n",
    "\n",
    "def convert_log_to_json(log_file, csv_template, output_json):\n",
    "    \"\"\"Chuyển đổi file log thành JSON theo tiêu đề từ CSV mẫu.\"\"\"\n",
    "    headers = get_headers_from_csv(csv_template)  # Lấy tiêu đề từ CSV\n",
    "    log_data = []\n",
    "\n",
    "    with open(log_file, \"r\", encoding=\"utf-8\") as file:\n",
    "        for i,line in enumerate(file):\n",
    "            try:\n",
    "                log_entry = split_log_line(headers,line, i)\n",
    "                log_data.append(log_entry)\n",
    "\n",
    "            except Exception as e:\n",
    "                print(f\"Lỗi xử lý dòng {i+1}: {e}\")\n",
    "\n",
    "    with open(output_json, \"w\", encoding=\"utf-8\") as json_out:\n",
    "        json.dump(log_data, json_out, indent=4, ensure_ascii=False)\n",
    "\n",
    "    print(f\"Chuyển đổi {log_file} thành {output_json} thành công!\")"
   ],
   "id": "a94e066301669463",
   "outputs": [],
   "execution_count": 4
  },
  {
   "metadata": {
    "ExecuteTime": {
     "end_time": "2025-03-01T16:03:13.005335Z",
     "start_time": "2025-03-01T16:03:12.991955Z"
    }
   },
   "cell_type": "code",
   "source": "print(get_headers_from_csv(\"data/BGL/BGL_2k.log_structured.csv\"))",
   "id": "8a0e9ef08d81fc21",
   "outputs": [
    {
     "name": "stdout",
     "output_type": "stream",
     "text": [
      "['LineId', 'Label', 'Timestamp', 'Date', 'Node', 'Time', 'NodeRepeat', 'Type', 'Component', 'Level', 'Content', 'EventId', 'EventTemplate']\n"
     ]
    }
   ],
   "execution_count": 27
  },
  {
   "metadata": {
    "ExecuteTime": {
     "end_time": "2025-03-02T02:28:27.708680Z",
     "start_time": "2025-03-02T02:28:27.691503Z"
    }
   },
   "cell_type": "code",
   "source": [
    "print(split_log_line(\n",
    "    get_headers_from_csv(\"data/Thunderbird/Thunderbird_2k.log_structured.csv\"),\n",
    "    \"- 1131566461 2005.11.09 dn228 Nov 9 12:01:01 dn228/dn228 crond(pam_unix)[2915]: session closed for user root\",\n",
    "    0\n",
    "))"
   ],
   "id": "29e8a23914ffee12",
   "outputs": [
    {
     "name": "stdout",
     "output_type": "stream",
     "text": [
      "{'LineId': 0, 'Label': '-', 'Timestamp': '1131566461', 'Date': '2005.11.09', 'User': 'dn228', 'Month': 'Nov', 'Day': '9', 'Time': '12:01:01', 'Location': 'dn228/dn228', 'Component': 'crond(pam_unix)[2915]:', 'PID': 'session', 'Content': 'for user root'}\n"
     ]
    }
   ],
   "execution_count": 90
  },
  {
   "metadata": {
    "ExecuteTime": {
     "end_time": "2025-03-01T17:14:40.310728Z",
     "start_time": "2025-03-01T17:12:44.410728Z"
    }
   },
   "cell_type": "code",
   "source": "convert_log_to_json(\"data/BGL/BGL.log\", \"data/BGL/BGL_2k.log_structured.csv\", \"data/BGL/BGL.json\")\n",
   "id": "2d7544447824d199",
   "outputs": [
    {
     "name": "stdout",
     "output_type": "stream",
     "text": [
      "Chuyển đổi data/BGL/BGL.log thành data/BGL/BGL.json thành công!\n"
     ]
    }
   ],
   "execution_count": 88
  },
  {
   "metadata": {
    "ExecuteTime": {
     "end_time": "2025-03-01T17:14:40.504579Z",
     "start_time": "2025-03-01T17:14:40.433159Z"
    }
   },
   "cell_type": "code",
   "source": "convert_log_to_json(\"data/Thunderbird/Thunderbird_2k.log\", \"data/Thunderbird/Thunderbird_2k.log_structured.csv\", \"data/Thunderbird/Thunderbird_2k.json\")\n",
   "id": "37e85ed24579bfe5",
   "outputs": [
    {
     "name": "stdout",
     "output_type": "stream",
     "text": [
      "Chuyển đổi data/Thunderbird/Thunderbird_2k.log thành data/Thunderbird/Thunderbird_2k.json thành công!\n"
     ]
    }
   ],
   "execution_count": 89
  },
  {
   "metadata": {
    "ExecuteTime": {
     "end_time": "2025-03-03T00:28:46.760359Z",
     "start_time": "2025-03-03T00:28:46.609737Z"
    }
   },
   "cell_type": "code",
   "source": [
    "from elasticsearch import Elasticsearch\n",
    "\n",
    "# Kết nối đến Elasticsearch\n",
    "es = Elasticsearch([\"http://localhost:9200\"])  # Đảm bảo Elasticsearch đang chạy\n",
    "\n",
    "# Kiểm tra kết nối\n",
    "if es.ping():\n",
    "    print(\"Kết nối thành công đến Elasticsearch!\")\n",
    "else:\n",
    "    print(\"Không thể kết nối đến Elasticsearch.\")\n"
   ],
   "id": "e169e47ac41582b5",
   "outputs": [
    {
     "name": "stdout",
     "output_type": "stream",
     "text": [
      "Kết nối thành công đến Elasticsearch!\n"
     ]
    },
    {
     "name": "stderr",
     "output_type": "stream",
     "text": [
      "C:\\Users\\ndtdu\\AppData\\Local\\Temp\\ipykernel_10564\\4143311756.py:7: ElasticsearchWarning: Elasticsearch built-in security features are not enabled. Without authentication, your cluster could be accessible to anyone. See https://www.elastic.co/guide/en/elasticsearch/reference/7.17/security-minimal-setup.html to enable security.\n",
      "  if es.ping():\n"
     ]
    }
   ],
   "execution_count": 17
  },
  {
   "metadata": {
    "ExecuteTime": {
     "end_time": "2025-03-02T13:30:22.953299Z",
     "start_time": "2025-03-02T13:30:22.945626Z"
    }
   },
   "cell_type": "code",
   "source": [
    "# Tên index\n",
    "index_name = \"bgl\"\n",
    "\n",
    "config = {\n",
    "    \"template\" : {\n",
    "        \"settings\" : {\n",
    "          \"index\" : {\n",
    "            \"number_of_shards\" : \"3\",\n",
    "            \"number_of_replicas\" : \"0\",\n",
    "            \"routing\" : {\n",
    "              \"allocation\" : {\n",
    "                \"include\" : {\n",
    "                  \"_tier_preference\" : \"data_content\"\n",
    "                }\n",
    "              }\n",
    "            }\n",
    "          }\n",
    "        },\n",
    "        \"mappings\": {\n",
    "            \"dynamic\": False,\n",
    "            \"properties\": {\n",
    "                \"LineId\": { \"type\": \"integer\" },\n",
    "                \"Label\": { \"type\": \"keyword\" },\n",
    "                \"Timestamp\": { \"type\": \"long\" },\n",
    "                \"Date\": { \"type\": \"date\", \"format\": \"yyyy.MM.dd\" },\n",
    "                \"Node\": { \"type\": \"keyword\" },\n",
    "                \"Time\": { \"type\": \"date\", \"format\": \"yyyy-MM-dd-HH.mm.ss.SSSSSS\" },\n",
    "                \"NodeRepeat\": { \"type\": \"keyword\" },\n",
    "                \"Type\": { \"type\": \"keyword\" },\n",
    "                \"Component\": { \"type\": \"keyword\" },\n",
    "                \"Level\": { \"type\": \"keyword\" },\n",
    "                \"Content\": { \"type\": \"text\" }\n",
    "            }\n",
    "        },\n",
    "        \"aliases\" : { }\n",
    "  }\n",
    "}\n"
   ],
   "id": "345e9fe9c64d779",
   "outputs": [],
   "execution_count": 7
  },
  {
   "metadata": {
    "ExecuteTime": {
     "end_time": "2025-03-02T13:30:33.526816Z",
     "start_time": "2025-03-02T13:30:32.918458Z"
    }
   },
   "cell_type": "code",
   "source": [
    "if es.indices.exists(index=index_name):\n",
    "    es.indices.delete(index=index_name)\n",
    "    print(f\"Deleted existing index: {index_name}\")\n",
    "# Tạo index mới với mapping\n",
    "es.indices.create(\n",
    "    index=index_name,\n",
    ")\n",
    "print(f\"Index '{index_name}' created successfully!\")\n",
    "\n"
   ],
   "id": "3f246540bae0d71",
   "outputs": [
    {
     "name": "stderr",
     "output_type": "stream",
     "text": [
      "C:\\Users\\ndtdu\\AppData\\Local\\Temp\\ipykernel_10564\\1941536560.py:1: ElasticsearchWarning: Elasticsearch built-in security features are not enabled. Without authentication, your cluster could be accessible to anyone. See https://www.elastic.co/guide/en/elasticsearch/reference/7.17/security-minimal-setup.html to enable security.\n",
      "  if es.indices.exists(index=index_name):\n",
      "C:\\Users\\ndtdu\\AppData\\Local\\Temp\\ipykernel_10564\\1941536560.py:2: ElasticsearchWarning: Elasticsearch built-in security features are not enabled. Without authentication, your cluster could be accessible to anyone. See https://www.elastic.co/guide/en/elasticsearch/reference/7.17/security-minimal-setup.html to enable security.\n",
      "  es.indices.delete(index=index_name)\n"
     ]
    },
    {
     "name": "stdout",
     "output_type": "stream",
     "text": [
      "Deleted existing index: bgl\n",
      "Index 'bgl' created successfully!\n"
     ]
    },
    {
     "name": "stderr",
     "output_type": "stream",
     "text": [
      "C:\\Users\\ndtdu\\AppData\\Local\\Temp\\ipykernel_10564\\1941536560.py:5: ElasticsearchWarning: Elasticsearch built-in security features are not enabled. Without authentication, your cluster could be accessible to anyone. See https://www.elastic.co/guide/en/elasticsearch/reference/7.17/security-minimal-setup.html to enable security.\n",
      "  es.indices.create(\n"
     ]
    }
   ],
   "execution_count": 8
  },
  {
   "metadata": {
    "ExecuteTime": {
     "end_time": "2025-03-02T13:33:59.286665Z",
     "start_time": "2025-03-02T13:33:59.206097Z"
    }
   },
   "cell_type": "code",
   "source": [
    "template_name = \"template-config\"\n",
    "if es.cluster.exists_component_template(name=template_name):\n",
    "    es.cluster.delete_component_template(name=template_name)\n",
    "    print(f\"Deleted existing template: {template_name}\")\n",
    "#create a general template\n",
    "es.cluster.put_component_template(\n",
    "    name=template_name,\n",
    "    template={\n",
    "        \"settings\" : {\n",
    "          \"index\" : {\n",
    "            \"number_of_replicas\" : \"0\",\n",
    "          }\n",
    "        },\n",
    "        \"mappings\": {\n",
    "            \"dynamic\": False,\n",
    "            \"properties\": {\n",
    "                \"LineId\": { \"type\": \"integer\" },\n",
    "                \"Label\": { \"type\": \"keyword\" },\n",
    "                \"Timestamp\": { \"type\": \"long\" },\n",
    "                \"Date\": { \"type\": \"date\", \"format\": \"yyyy.MM.dd\" },\n",
    "                \"Node\": { \"type\": \"keyword\" },\n",
    "                \"Time\": { \"type\": \"date\", \"format\": \"yyyy-MM-dd-HH.mm.ss.SSSSSS\" },\n",
    "                \"NodeRepeat\": { \"type\": \"keyword\" },\n",
    "                \"Type\": { \"type\": \"keyword\" },\n",
    "                \"Component\": { \"type\": \"keyword\" },\n",
    "                \"Level\": { \"type\": \"keyword\" },\n",
    "                \"Content\": { \"type\": \"text\" }\n",
    "            }\n",
    "        }\n",
    "    },\n",
    ")\n",
    "print(f\"Template '{template_name}' created successfully!\")"
   ],
   "id": "c093b2caf63b49ed",
   "outputs": [
    {
     "name": "stderr",
     "output_type": "stream",
     "text": [
      "C:\\Users\\ndtdu\\AppData\\Local\\Temp\\ipykernel_10564\\4190154019.py:2: ElasticsearchWarning: Elasticsearch built-in security features are not enabled. Without authentication, your cluster could be accessible to anyone. See https://www.elastic.co/guide/en/elasticsearch/reference/7.17/security-minimal-setup.html to enable security.\n",
      "  if es.cluster.exists_component_template(name=template_name):\n"
     ]
    },
    {
     "ename": "BadRequestError",
     "evalue": "BadRequestError(400, 'illegal_argument_exception', 'component templates [template-config] cannot be removed as they are still in use by index templates [bgl-template]')",
     "output_type": "error",
     "traceback": [
      "\u001B[1;31m---------------------------------------------------------------------------\u001B[0m",
      "\u001B[1;31mBadRequestError\u001B[0m                           Traceback (most recent call last)",
      "Cell \u001B[1;32mIn[11], line 3\u001B[0m\n\u001B[0;32m      1\u001B[0m template_name \u001B[38;5;241m=\u001B[39m \u001B[38;5;124m\"\u001B[39m\u001B[38;5;124mtemplate-config\u001B[39m\u001B[38;5;124m\"\u001B[39m\n\u001B[0;32m      2\u001B[0m \u001B[38;5;28;01mif\u001B[39;00m es\u001B[38;5;241m.\u001B[39mcluster\u001B[38;5;241m.\u001B[39mexists_component_template(name\u001B[38;5;241m=\u001B[39mtemplate_name):\n\u001B[1;32m----> 3\u001B[0m     \u001B[43mes\u001B[49m\u001B[38;5;241;43m.\u001B[39;49m\u001B[43mcluster\u001B[49m\u001B[38;5;241;43m.\u001B[39;49m\u001B[43mdelete_component_template\u001B[49m\u001B[43m(\u001B[49m\u001B[43mname\u001B[49m\u001B[38;5;241;43m=\u001B[39;49m\u001B[43mtemplate_name\u001B[49m\u001B[43m)\u001B[49m\n\u001B[0;32m      4\u001B[0m     \u001B[38;5;28mprint\u001B[39m(\u001B[38;5;124mf\u001B[39m\u001B[38;5;124m\"\u001B[39m\u001B[38;5;124mDeleted existing template: \u001B[39m\u001B[38;5;132;01m{\u001B[39;00mtemplate_name\u001B[38;5;132;01m}\u001B[39;00m\u001B[38;5;124m\"\u001B[39m)\n\u001B[0;32m      5\u001B[0m \u001B[38;5;66;03m#create a general template\u001B[39;00m\n",
      "File \u001B[1;32m~\\miniconda3\\Lib\\site-packages\\elasticsearch\\_sync\\client\\utils.py:455\u001B[0m, in \u001B[0;36m_rewrite_parameters.<locals>.wrapper.<locals>.wrapped\u001B[1;34m(*args, **kwargs)\u001B[0m\n\u001B[0;32m    452\u001B[0m         \u001B[38;5;28;01mexcept\u001B[39;00m \u001B[38;5;167;01mKeyError\u001B[39;00m:\n\u001B[0;32m    453\u001B[0m             \u001B[38;5;28;01mpass\u001B[39;00m\n\u001B[1;32m--> 455\u001B[0m \u001B[38;5;28;01mreturn\u001B[39;00m \u001B[43mapi\u001B[49m\u001B[43m(\u001B[49m\u001B[38;5;241;43m*\u001B[39;49m\u001B[43margs\u001B[49m\u001B[43m,\u001B[49m\u001B[43m \u001B[49m\u001B[38;5;241;43m*\u001B[39;49m\u001B[38;5;241;43m*\u001B[39;49m\u001B[43mkwargs\u001B[49m\u001B[43m)\u001B[49m\n",
      "File \u001B[1;32m~\\miniconda3\\Lib\\site-packages\\elasticsearch\\_sync\\client\\cluster.py:154\u001B[0m, in \u001B[0;36mClusterClient.delete_component_template\u001B[1;34m(self, name, error_trace, filter_path, human, master_timeout, pretty, timeout)\u001B[0m\n\u001B[0;32m    152\u001B[0m     __query[\u001B[38;5;124m\"\u001B[39m\u001B[38;5;124mtimeout\u001B[39m\u001B[38;5;124m\"\u001B[39m] \u001B[38;5;241m=\u001B[39m timeout\n\u001B[0;32m    153\u001B[0m __headers \u001B[38;5;241m=\u001B[39m {\u001B[38;5;124m\"\u001B[39m\u001B[38;5;124maccept\u001B[39m\u001B[38;5;124m\"\u001B[39m: \u001B[38;5;124m\"\u001B[39m\u001B[38;5;124mapplication/json\u001B[39m\u001B[38;5;124m\"\u001B[39m}\n\u001B[1;32m--> 154\u001B[0m \u001B[38;5;28;01mreturn\u001B[39;00m \u001B[38;5;28;43mself\u001B[39;49m\u001B[38;5;241;43m.\u001B[39;49m\u001B[43mperform_request\u001B[49m\u001B[43m(\u001B[49m\u001B[43m  \u001B[49m\u001B[38;5;66;43;03m# type: ignore[return-value]\u001B[39;49;00m\n\u001B[0;32m    155\u001B[0m \u001B[43m    \u001B[49m\u001B[38;5;124;43m\"\u001B[39;49m\u001B[38;5;124;43mDELETE\u001B[39;49m\u001B[38;5;124;43m\"\u001B[39;49m\u001B[43m,\u001B[49m\n\u001B[0;32m    156\u001B[0m \u001B[43m    \u001B[49m\u001B[43m__path\u001B[49m\u001B[43m,\u001B[49m\n\u001B[0;32m    157\u001B[0m \u001B[43m    \u001B[49m\u001B[43mparams\u001B[49m\u001B[38;5;241;43m=\u001B[39;49m\u001B[43m__query\u001B[49m\u001B[43m,\u001B[49m\n\u001B[0;32m    158\u001B[0m \u001B[43m    \u001B[49m\u001B[43mheaders\u001B[49m\u001B[38;5;241;43m=\u001B[39;49m\u001B[43m__headers\u001B[49m\u001B[43m,\u001B[49m\n\u001B[0;32m    159\u001B[0m \u001B[43m    \u001B[49m\u001B[43mendpoint_id\u001B[49m\u001B[38;5;241;43m=\u001B[39;49m\u001B[38;5;124;43m\"\u001B[39;49m\u001B[38;5;124;43mcluster.delete_component_template\u001B[39;49m\u001B[38;5;124;43m\"\u001B[39;49m\u001B[43m,\u001B[49m\n\u001B[0;32m    160\u001B[0m \u001B[43m    \u001B[49m\u001B[43mpath_parts\u001B[49m\u001B[38;5;241;43m=\u001B[39;49m\u001B[43m__path_parts\u001B[49m\u001B[43m,\u001B[49m\n\u001B[0;32m    161\u001B[0m \u001B[43m\u001B[49m\u001B[43m)\u001B[49m\n",
      "File \u001B[1;32m~\\miniconda3\\Lib\\site-packages\\elasticsearch\\_sync\\client\\_base.py:423\u001B[0m, in \u001B[0;36mNamespacedClient.perform_request\u001B[1;34m(self, method, path, params, headers, body, endpoint_id, path_parts)\u001B[0m\n\u001B[0;32m    410\u001B[0m \u001B[38;5;28;01mdef\u001B[39;00m\u001B[38;5;250m \u001B[39m\u001B[38;5;21mperform_request\u001B[39m(\n\u001B[0;32m    411\u001B[0m     \u001B[38;5;28mself\u001B[39m,\n\u001B[0;32m    412\u001B[0m     method: \u001B[38;5;28mstr\u001B[39m,\n\u001B[1;32m   (...)\u001B[0m\n\u001B[0;32m    421\u001B[0m     \u001B[38;5;66;03m# Use the internal clients .perform_request() implementation\u001B[39;00m\n\u001B[0;32m    422\u001B[0m     \u001B[38;5;66;03m# so we take advantage of their transport options.\u001B[39;00m\n\u001B[1;32m--> 423\u001B[0m     \u001B[38;5;28;01mreturn\u001B[39;00m \u001B[38;5;28;43mself\u001B[39;49m\u001B[38;5;241;43m.\u001B[39;49m\u001B[43m_client\u001B[49m\u001B[38;5;241;43m.\u001B[39;49m\u001B[43mperform_request\u001B[49m\u001B[43m(\u001B[49m\n\u001B[0;32m    424\u001B[0m \u001B[43m        \u001B[49m\u001B[43mmethod\u001B[49m\u001B[43m,\u001B[49m\n\u001B[0;32m    425\u001B[0m \u001B[43m        \u001B[49m\u001B[43mpath\u001B[49m\u001B[43m,\u001B[49m\n\u001B[0;32m    426\u001B[0m \u001B[43m        \u001B[49m\u001B[43mparams\u001B[49m\u001B[38;5;241;43m=\u001B[39;49m\u001B[43mparams\u001B[49m\u001B[43m,\u001B[49m\n\u001B[0;32m    427\u001B[0m \u001B[43m        \u001B[49m\u001B[43mheaders\u001B[49m\u001B[38;5;241;43m=\u001B[39;49m\u001B[43mheaders\u001B[49m\u001B[43m,\u001B[49m\n\u001B[0;32m    428\u001B[0m \u001B[43m        \u001B[49m\u001B[43mbody\u001B[49m\u001B[38;5;241;43m=\u001B[39;49m\u001B[43mbody\u001B[49m\u001B[43m,\u001B[49m\n\u001B[0;32m    429\u001B[0m \u001B[43m        \u001B[49m\u001B[43mendpoint_id\u001B[49m\u001B[38;5;241;43m=\u001B[39;49m\u001B[43mendpoint_id\u001B[49m\u001B[43m,\u001B[49m\n\u001B[0;32m    430\u001B[0m \u001B[43m        \u001B[49m\u001B[43mpath_parts\u001B[49m\u001B[38;5;241;43m=\u001B[39;49m\u001B[43mpath_parts\u001B[49m\u001B[43m,\u001B[49m\n\u001B[0;32m    431\u001B[0m \u001B[43m    \u001B[49m\u001B[43m)\u001B[49m\n",
      "File \u001B[1;32m~\\miniconda3\\Lib\\site-packages\\elasticsearch\\_sync\\client\\_base.py:271\u001B[0m, in \u001B[0;36mBaseClient.perform_request\u001B[1;34m(self, method, path, params, headers, body, endpoint_id, path_parts)\u001B[0m\n\u001B[0;32m    255\u001B[0m \u001B[38;5;28;01mdef\u001B[39;00m\u001B[38;5;250m \u001B[39m\u001B[38;5;21mperform_request\u001B[39m(\n\u001B[0;32m    256\u001B[0m     \u001B[38;5;28mself\u001B[39m,\n\u001B[0;32m    257\u001B[0m     method: \u001B[38;5;28mstr\u001B[39m,\n\u001B[1;32m   (...)\u001B[0m\n\u001B[0;32m    264\u001B[0m     path_parts: Optional[Mapping[\u001B[38;5;28mstr\u001B[39m, Any]] \u001B[38;5;241m=\u001B[39m \u001B[38;5;28;01mNone\u001B[39;00m,\n\u001B[0;32m    265\u001B[0m ) \u001B[38;5;241m-\u001B[39m\u001B[38;5;241m>\u001B[39m ApiResponse[Any]:\n\u001B[0;32m    266\u001B[0m     \u001B[38;5;28;01mwith\u001B[39;00m \u001B[38;5;28mself\u001B[39m\u001B[38;5;241m.\u001B[39m_otel\u001B[38;5;241m.\u001B[39mspan(\n\u001B[0;32m    267\u001B[0m         method,\n\u001B[0;32m    268\u001B[0m         endpoint_id\u001B[38;5;241m=\u001B[39mendpoint_id,\n\u001B[0;32m    269\u001B[0m         path_parts\u001B[38;5;241m=\u001B[39mpath_parts \u001B[38;5;129;01mor\u001B[39;00m {},\n\u001B[0;32m    270\u001B[0m     ) \u001B[38;5;28;01mas\u001B[39;00m otel_span:\n\u001B[1;32m--> 271\u001B[0m         response \u001B[38;5;241m=\u001B[39m \u001B[38;5;28;43mself\u001B[39;49m\u001B[38;5;241;43m.\u001B[39;49m\u001B[43m_perform_request\u001B[49m\u001B[43m(\u001B[49m\n\u001B[0;32m    272\u001B[0m \u001B[43m            \u001B[49m\u001B[43mmethod\u001B[49m\u001B[43m,\u001B[49m\n\u001B[0;32m    273\u001B[0m \u001B[43m            \u001B[49m\u001B[43mpath\u001B[49m\u001B[43m,\u001B[49m\n\u001B[0;32m    274\u001B[0m \u001B[43m            \u001B[49m\u001B[43mparams\u001B[49m\u001B[38;5;241;43m=\u001B[39;49m\u001B[43mparams\u001B[49m\u001B[43m,\u001B[49m\n\u001B[0;32m    275\u001B[0m \u001B[43m            \u001B[49m\u001B[43mheaders\u001B[49m\u001B[38;5;241;43m=\u001B[39;49m\u001B[43mheaders\u001B[49m\u001B[43m,\u001B[49m\n\u001B[0;32m    276\u001B[0m \u001B[43m            \u001B[49m\u001B[43mbody\u001B[49m\u001B[38;5;241;43m=\u001B[39;49m\u001B[43mbody\u001B[49m\u001B[43m,\u001B[49m\n\u001B[0;32m    277\u001B[0m \u001B[43m            \u001B[49m\u001B[43motel_span\u001B[49m\u001B[38;5;241;43m=\u001B[39;49m\u001B[43motel_span\u001B[49m\u001B[43m,\u001B[49m\n\u001B[0;32m    278\u001B[0m \u001B[43m        \u001B[49m\u001B[43m)\u001B[49m\n\u001B[0;32m    279\u001B[0m         otel_span\u001B[38;5;241m.\u001B[39mset_elastic_cloud_metadata(response\u001B[38;5;241m.\u001B[39mmeta\u001B[38;5;241m.\u001B[39mheaders)\n\u001B[0;32m    280\u001B[0m         \u001B[38;5;28;01mreturn\u001B[39;00m response\n",
      "File \u001B[1;32m~\\miniconda3\\Lib\\site-packages\\elasticsearch\\_sync\\client\\_base.py:352\u001B[0m, in \u001B[0;36mBaseClient._perform_request\u001B[1;34m(self, method, path, params, headers, body, otel_span)\u001B[0m\n\u001B[0;32m    349\u001B[0m         \u001B[38;5;28;01mexcept\u001B[39;00m (\u001B[38;5;167;01mValueError\u001B[39;00m, \u001B[38;5;167;01mKeyError\u001B[39;00m, \u001B[38;5;167;01mTypeError\u001B[39;00m):\n\u001B[0;32m    350\u001B[0m             \u001B[38;5;28;01mpass\u001B[39;00m\n\u001B[1;32m--> 352\u001B[0m     \u001B[38;5;28;01mraise\u001B[39;00m HTTP_EXCEPTIONS\u001B[38;5;241m.\u001B[39mget(meta\u001B[38;5;241m.\u001B[39mstatus, ApiError)(\n\u001B[0;32m    353\u001B[0m         message\u001B[38;5;241m=\u001B[39mmessage, meta\u001B[38;5;241m=\u001B[39mmeta, body\u001B[38;5;241m=\u001B[39mresp_body\n\u001B[0;32m    354\u001B[0m     )\n\u001B[0;32m    356\u001B[0m \u001B[38;5;66;03m# 'X-Elastic-Product: Elasticsearch' should be on every 2XX response.\u001B[39;00m\n\u001B[0;32m    357\u001B[0m \u001B[38;5;28;01mif\u001B[39;00m \u001B[38;5;129;01mnot\u001B[39;00m \u001B[38;5;28mself\u001B[39m\u001B[38;5;241m.\u001B[39m_verified_elasticsearch:\n\u001B[0;32m    358\u001B[0m     \u001B[38;5;66;03m# If the header is set we mark the server as verified.\u001B[39;00m\n",
      "\u001B[1;31mBadRequestError\u001B[0m: BadRequestError(400, 'illegal_argument_exception', 'component templates [template-config] cannot be removed as they are still in use by index templates [bgl-template]')"
     ]
    }
   ],
   "execution_count": 11
  },
  {
   "metadata": {
    "ExecuteTime": {
     "end_time": "2025-03-02T13:34:08.718631Z",
     "start_time": "2025-03-02T13:34:08.696288Z"
    }
   },
   "cell_type": "code",
   "source": "es.cluster.get_component_template(name=\"template-config\")",
   "id": "8b45a271a28696b7",
   "outputs": [
    {
     "name": "stderr",
     "output_type": "stream",
     "text": [
      "C:\\Users\\ndtdu\\AppData\\Local\\Temp\\ipykernel_10564\\683712239.py:1: ElasticsearchWarning: Elasticsearch built-in security features are not enabled. Without authentication, your cluster could be accessible to anyone. See https://www.elastic.co/guide/en/elasticsearch/reference/7.17/security-minimal-setup.html to enable security.\n",
      "  es.cluster.get_component_template(name=\"template-config\")\n"
     ]
    },
    {
     "data": {
      "text/plain": [
       "ObjectApiResponse({'component_templates': [{'name': 'template-config', 'component_template': {'template': {'settings': {'index': {'number_of_replicas': '0'}}, 'mappings': {'dynamic': False, 'properties': {'Type': {'type': 'keyword'}, 'LineId': {'type': 'integer'}, 'NodeRepeat': {'type': 'keyword'}, 'Content': {'type': 'text'}, 'Node': {'type': 'keyword'}, 'Label': {'type': 'keyword'}, 'Time': {'format': 'yyyy-MM-dd-HH.mm.ss.SSSSSS', 'type': 'date'}, 'Level': {'type': 'keyword'}, 'Component': {'type': 'keyword'}, 'Timestamp': {'type': 'long'}, 'Date': {'format': 'yyyy.MM.dd', 'type': 'date'}}}}}}]})"
      ]
     },
     "execution_count": 12,
     "metadata": {},
     "output_type": "execute_result"
    }
   ],
   "execution_count": 12
  },
  {
   "metadata": {
    "ExecuteTime": {
     "end_time": "2025-03-02T13:39:03.162270Z",
     "start_time": "2025-03-02T13:39:03.022249Z"
    }
   },
   "cell_type": "code",
   "source": [
    "req= es.indices.simulate_template(\n",
    "    index_patterns=[\"bgl\"],\n",
    "    composed_of=[\"template-config\"],\n",
    "    template={\n",
    "        \"settings\": {\n",
    "            \"index.number_of_shards\": 3\n",
    "        }\n",
    "    },\n",
    ")\n"
   ],
   "id": "8365eef4dd952a66",
   "outputs": [
    {
     "name": "stderr",
     "output_type": "stream",
     "text": [
      "C:\\Users\\ndtdu\\AppData\\Local\\Temp\\ipykernel_10564\\3277603021.py:1: ElasticsearchWarning: Elasticsearch built-in security features are not enabled. Without authentication, your cluster could be accessible to anyone. See https://www.elastic.co/guide/en/elasticsearch/reference/7.17/security-minimal-setup.html to enable security.\n",
      "  req= es.indices.simulate_template(\n"
     ]
    }
   ],
   "execution_count": 15
  },
  {
   "metadata": {
    "ExecuteTime": {
     "end_time": "2025-03-02T13:39:06.848090Z",
     "start_time": "2025-03-02T13:39:06.818267Z"
    }
   },
   "cell_type": "code",
   "source": "print(es.indices.get_index_template())",
   "id": "56ef32f014fb7237",
   "outputs": [
    {
     "name": "stdout",
     "output_type": "stream",
     "text": [
      "{'index_templates': [{'name': '.ml-state', 'index_template': {'index_patterns': ['.ml-state*'], 'template': {'settings': {'index': {'hidden': 'true', 'lifecycle': {'name': 'ml-size-based-ilm-policy', 'rollover_alias': '.ml-state-write'}, 'auto_expand_replicas': '0-1'}}, 'mappings': {'_meta': {'version': '7172899'}, 'enabled': False}, 'aliases': {}}, 'composed_of': [], 'priority': 2147483647, 'version': 7172899, '_meta': {'managed': True, 'description': 'index template for ML state indices'}}}, {'name': 'ilm-history', 'index_template': {'index_patterns': ['ilm-history-5*'], 'template': {'settings': {'index': {'lifecycle': {'name': 'ilm-history-ilm-policy'}, 'number_of_shards': '1', 'auto_expand_replicas': '0-1', 'number_of_replicas': '0'}}, 'mappings': {'dynamic': False, 'properties': {'index_age': {'type': 'long'}, '@timestamp': {'format': 'epoch_millis', 'type': 'date'}, 'error_details': {'type': 'text'}, 'success': {'type': 'boolean'}, 'index': {'type': 'keyword'}, 'state': {'dynamic': True, 'type': 'object', 'properties': {'phase': {'type': 'keyword'}, 'failed_step': {'type': 'keyword'}, 'phase_definition': {'type': 'text'}, 'action_time': {'format': 'epoch_millis', 'type': 'date'}, 'phase_time': {'format': 'epoch_millis', 'type': 'date'}, 'step_info': {'type': 'text'}, 'action': {'type': 'keyword'}, 'step': {'type': 'keyword'}, 'is_auto-retryable_error': {'type': 'keyword'}, 'creation_date': {'format': 'epoch_millis', 'type': 'date'}, 'step_time': {'format': 'epoch_millis', 'type': 'date'}}}, 'policy': {'type': 'keyword'}}}}, 'composed_of': [], 'priority': 2147483647, 'version': 5, '_meta': {'managed': True, 'description': 'index template for ILM history indices'}, 'data_stream': {'hidden': True}, 'allow_auto_create': True}}, {'name': 'bgl-template', 'index_template': {'index_patterns': ['bgl*'], 'composed_of': ['template-config'], 'priority': 100}}, {'name': '.slm-history', 'index_template': {'index_patterns': ['.slm-history-5*'], 'template': {'settings': {'index': {'lifecycle': {'name': 'slm-history-ilm-policy'}, 'number_of_shards': '1', 'auto_expand_replicas': '0-1', 'number_of_replicas': '0'}}, 'mappings': {'dynamic': False, 'properties': {'snapshot_name': {'type': 'keyword'}, '@timestamp': {'format': 'epoch_millis', 'type': 'date'}, 'configuration': {'dynamic': False, 'type': 'object', 'properties': {'indices': {'type': 'keyword'}, 'include_global_state': {'type': 'boolean'}, 'partial': {'type': 'boolean'}}}, 'error_details': {'index': False, 'type': 'text'}, 'success': {'type': 'boolean'}, 'repository': {'type': 'keyword'}, 'operation': {'type': 'keyword'}, 'policy': {'type': 'keyword'}}}}, 'composed_of': [], 'priority': 2147483647, 'version': 5, '_meta': {'managed': True, 'description': 'index template for SLM history indices'}, 'data_stream': {'hidden': True}, 'allow_auto_create': True}}, {'name': 'synthetics', 'index_template': {'index_patterns': ['synthetics-*-*'], 'composed_of': ['synthetics-mappings', 'data-streams-mappings', 'synthetics-settings'], 'priority': 100, 'version': 1, '_meta': {'managed': True, 'description': 'default synthetics template installed by x-pack'}, 'data_stream': {'hidden': False}, 'allow_auto_create': True}}, {'name': '.ml-anomalies-', 'index_template': {'index_patterns': ['.ml-anomalies-*'], 'template': {'settings': {'index': {'hidden': 'true', 'translog': {'durability': 'async'}, 'auto_expand_replicas': '0-1', 'query': {'default_field': 'all_field_values'}}}, 'mappings': {'_meta': {'version': '7.17.28'}, 'dynamic_templates': [{'strings_as_keywords': {'mapping': {'type': 'keyword'}, 'match': '*'}}], 'properties': {'search_count': {'type': 'long'}, 'bucket_count': {'type': 'long'}, 'terms': {'type': 'text'}, 'record_score': {'type': 'double'}, 'forecast_expiry_timestamp': {'type': 'date'}, 'over_field_value': {'copy_to': ['all_field_values'], 'type': 'keyword'}, 'preferred_to_categories': {'type': 'long'}, 'empty_bucket_count': {'type': 'long'}, 'forecast_create_timestamp': {'type': 'date'}, 'probability': {'type': 'double'}, 'missing_field_count': {'type': 'long'}, 'forecast_lower': {'type': 'double'}, 'influencer_field_value': {'copy_to': ['all_field_values'], 'type': 'keyword'}, 'multi_bucket_impact': {'type': 'double'}, 'forecast_progress': {'type': 'double'}, 'max_matching_length': {'type': 'long'}, 'latest_record_time_stamp': {'type': 'date'}, 'regex': {'type': 'keyword'}, 'examples': {'type': 'text'}, 'snapshot_doc_count': {'type': 'integer'}, 'average_bucket_processing_time_ms': {'type': 'double'}, 'initial_anomaly_score': {'type': 'double'}, 'initial_influencer_score': {'type': 'double'}, 'partition_field_value': {'copy_to': ['all_field_values'], 'type': 'keyword'}, 'model_lower': {'type': 'double'}, 'total_over_field_count': {'type': 'long'}, 'retain': {'type': 'boolean'}, 'forecast_upper': {'type': 'double'}, 'latest_sparse_bucket_timestamp': {'type': 'date'}, 'model_median': {'type': 'double'}, 'category_id': {'type': 'long'}, 'causes': {'type': 'nested', 'properties': {'actual': {'type': 'double'}, 'partition_field_name': {'type': 'keyword'}, 'partition_field_value': {'copy_to': ['all_field_values'], 'type': 'keyword'}, 'by_field_name': {'type': 'keyword'}, 'probability': {'type': 'double'}, 'geo_results': {'properties': {'actual_point': {'type': 'geo_point'}, 'typical_point': {'type': 'geo_point'}}}, 'field_name': {'type': 'keyword'}, 'by_field_value': {'copy_to': ['all_field_values'], 'type': 'keyword'}, 'over_field_name': {'type': 'keyword'}, 'correlated_by_field_value': {'copy_to': ['all_field_values'], 'type': 'keyword'}, 'function': {'type': 'keyword'}, 'typical': {'type': 'double'}, 'over_field_value': {'copy_to': ['all_field_values'], 'type': 'keyword'}, 'function_description': {'type': 'keyword'}}}, 'all_field_values': {'analyzer': 'whitespace', 'type': 'text'}, 'timestamp': {'type': 'date'}, 'input_field_count': {'type': 'long'}, 'model_bytes': {'type': 'long'}, 'quantiles': {'type': 'object', 'enabled': False}, 'function_description': {'type': 'keyword'}, 'min_version': {'type': 'keyword'}, 'raw_anomaly_score': {'type': 'double'}, 'exponential_average_bucket_processing_time_ms': {'type': 'double'}, 'invalid_date_count': {'type': 'long'}, 'snapshot_id': {'type': 'keyword'}, 'model_size_stats': {'properties': {'model_bytes': {'type': 'long'}, 'result_type': {'type': 'keyword'}, 'peak_model_bytes': {'type': 'long'}, 'job_id': {'type': 'keyword'}, 'total_over_field_count': {'type': 'long'}, 'total_partition_field_count': {'type': 'long'}, 'total_by_field_count': {'type': 'long'}, 'assignment_memory_basis': {'type': 'keyword'}, 'bucket_allocation_failures_count': {'type': 'long'}, 'memory_status': {'type': 'keyword'}, 'log_time': {'type': 'date'}, 'timestamp': {'type': 'date'}}}, 'total_search_time_ms': {'type': 'double'}, 'latest_empty_bucket_timestamp': {'type': 'date'}, 'anomaly_score': {'type': 'double'}, 'over_field_name': {'type': 'keyword'}, 'earliest_record_timestamp': {'type': 'date'}, 'scheduled_events': {'type': 'keyword'}, 'bucket_span': {'type': 'long'}, 'maximum_bucket_processing_time_ms': {'type': 'double'}, 'exponential_average_calculation_context': {'properties': {'incremental_metric_value_ms': {'type': 'double'}, 'previous_exponential_average_ms': {'type': 'double'}, 'latest_timestamp': {'type': 'date'}}}, 'function': {'type': 'keyword'}, 'influencers': {'type': 'nested', 'properties': {'influencer_field_name': {'type': 'keyword'}, 'influencer_field_values': {'copy_to': ['all_field_values'], 'type': 'keyword'}}}, 'input_record_count': {'type': 'long'}, 'latest_result_time_stamp': {'type': 'date'}, 'model_upper': {'type': 'double'}, 'actual': {'type': 'double'}, 'forecast_memory_bytes': {'type': 'long'}, 'total_by_field_count': {'type': 'long'}, 'geo_results': {'properties': {'actual_point': {'type': 'geo_point'}, 'typical_point': {'type': 'geo_point'}}}, 'detector_index': {'type': 'integer'}, 'by_field_value': {'copy_to': ['all_field_values'], 'type': 'keyword'}, 'processed_record_count': {'type': 'long'}, 'total_partition_field_count': {'type': 'long'}, 'mlcategory': {'type': 'keyword'}, 'assignment_memory_basis': {'type': 'keyword'}, 'forecast_end_timestamp': {'type': 'date'}, 'forecast_id': {'type': 'keyword'}, 'partition_field_name': {'type': 'keyword'}, 'by_field_name': {'type': 'keyword'}, 'event_count': {'type': 'long'}, 'description': {'type': 'text'}, 'is_interim': {'type': 'boolean'}, 'bucket_allocation_failures_count': {'type': 'long'}, 'memory_status': {'type': 'keyword'}, 'model_feature': {'type': 'keyword'}, 'num_matches': {'type': 'long'}, 'influencer_score': {'type': 'double'}, 'out_of_order_timestamp_count': {'type': 'long'}, 'result_type': {'type': 'keyword'}, 'last_data_time': {'type': 'date'}, 'latest_record_timestamp': {'type': 'date'}, 'influencer_field_name': {'type': 'keyword'}, 'forecast_messages': {'type': 'keyword'}, 'sparse_bucket_count': {'type': 'long'}, 'log_time': {'type': 'date'}, 'field_name': {'type': 'keyword'}, 'minimum_bucket_processing_time_ms': {'type': 'double'}, 'bucket_influencers': {'type': 'nested', 'properties': {'anomaly_score': {'type': 'double'}, 'initial_anomaly_score': {'type': 'double'}, 'result_type': {'type': 'keyword'}, 'raw_anomaly_score': {'type': 'double'}, 'bucket_span': {'type': 'long'}, 'job_id': {'type': 'keyword'}, 'probability': {'type': 'double'}, 'influencer_field_name': {'type': 'keyword'}, 'is_interim': {'type': 'boolean'}, 'timestamp': {'type': 'date'}}}, 'processing_time_ms': {'type': 'long'}, 'input_bytes': {'type': 'long'}, 'initial_record_score': {'type': 'double'}, 'job_id': {'copy_to': ['all_field_values'], 'type': 'keyword'}, 'processed_field_count': {'type': 'long'}, 'forecast_status': {'type': 'keyword'}, 'typical': {'type': 'double'}, 'forecast_prediction': {'type': 'double'}, 'forecast_start_timestamp': {'type': 'date'}}}}, 'composed_of': [], 'priority': 2147483647, 'version': 7172899, '_meta': {'managed': True, 'description': 'index template for ML anomaly detection results indices'}}}, {'name': 'metrics', 'index_template': {'index_patterns': ['metrics-*-*'], 'composed_of': ['metrics-mappings', 'data-streams-mappings', 'metrics-settings'], 'priority': 100, 'version': 1, '_meta': {'managed': True, 'description': 'default metrics template installed by x-pack'}, 'data_stream': {'hidden': False}, 'allow_auto_create': True}}, {'name': '.ml-notifications-000002', 'index_template': {'index_patterns': ['.ml-notifications-000002'], 'template': {'settings': {'index': {'hidden': 'true', 'number_of_shards': '1', 'auto_expand_replicas': '0-1'}}, 'mappings': {'_meta': {'version': '7.17.28'}, 'dynamic': 'false', 'properties': {'job_type': {'type': 'keyword'}, 'level': {'type': 'keyword'}, 'job_id': {'type': 'keyword'}, 'node_name': {'type': 'keyword'}, 'message': {'type': 'text', 'fields': {'raw': {'ignore_above': 1024, 'type': 'keyword'}}}, 'cleared': {'type': 'boolean'}, 'timestamp': {'type': 'date'}}}}, 'composed_of': [], 'priority': 2147483647, 'version': 7172899, '_meta': {'managed': True, 'description': 'index template for ML notifications indices'}}}, {'name': '.deprecation-indexing-template', 'index_template': {'index_patterns': ['.logs-deprecation.*'], 'composed_of': ['.deprecation-indexing-mappings', '.deprecation-indexing-settings'], 'priority': 1000, 'version': 1, '_meta': {'managed': True, 'description': 'default template for Stack deprecation logs index template installed by x-pack'}, 'data_stream': {'hidden': True}, 'allow_auto_create': True}}, {'name': '.watch-history-13', 'index_template': {'index_patterns': ['.watcher-history-13*'], 'template': {'settings': {'index': {'format': '6', 'lifecycle': {'name': 'watch-history-ilm-policy'}, 'hidden': 'true', 'number_of_shards': '1', 'auto_expand_replicas': '0-1', 'number_of_replicas': '0'}}, 'mappings': {'_meta': {'watcher-history-version': '13'}, 'dynamic': False, 'dynamic_templates': [{'disabled_payload_fields': {'match_pattern': 'regex', 'path_match': 'result\\\\.(input(\\\\..+)*|(transform(\\\\..+)*)|(actions\\\\.transform(\\\\..+)*))\\\\.payload', 'mapping': {'type': 'object', 'enabled': False}}}, {'disabled_search_request_body_fields': {'match_pattern': 'regex', 'path_match': 'result\\\\.(input(\\\\..+)*|(transform(\\\\..+)*)|(actions\\\\.transform(\\\\..+)*))\\\\.search\\\\.request\\\\.(body|template)', 'mapping': {'type': 'object', 'enabled': False}}}, {'disabled_exception_fields': {'match_pattern': 'regex', 'path_match': 'result\\\\.(input(\\\\..+)*|(transform(\\\\..+)*)|(actions\\\\.transform(\\\\..+)*)|actions)\\\\.error', 'mapping': {'type': 'object', 'enabled': False}}}, {'disabled_jira_custom_fields': {'path_match': 'result.actions.jira.fields.customfield_*', 'mapping': {'type': 'object', 'enabled': False}}}], 'properties': {'exception': {'type': 'object', 'enabled': False}, 'metadata': {'dynamic': True, 'type': 'object'}, 'trigger_event': {'dynamic': True, 'type': 'object', 'properties': {'schedule': {'dynamic': True, 'type': 'object', 'properties': {'scheduled_time': {'type': 'date'}}}, 'triggered_time': {'type': 'date'}, 'type': {'type': 'keyword'}, 'manual': {'dynamic': True, 'type': 'object', 'properties': {'schedule': {'dynamic': True, 'type': 'object', 'properties': {'scheduled_time': {'type': 'date'}}}}}}}, 'result': {'dynamic': True, 'type': 'object', 'properties': {'input': {'dynamic': True, 'type': 'object', 'properties': {'search': {'dynamic': True, 'type': 'object', 'properties': {'request': {'dynamic': True, 'type': 'object', 'properties': {'indices': {'type': 'keyword'}, 'types': {'type': 'keyword'}, 'search_type': {'type': 'keyword'}}}}}, 'payload': {'type': 'object', 'enabled': False}, 'http': {'dynamic': True, 'type': 'object', 'properties': {'request': {'dynamic': True, 'type': 'object', 'properties': {'path': {'type': 'keyword'}, 'host': {'type': 'keyword'}}}}}, 'type': {'type': 'keyword'}, 'status': {'type': 'keyword'}}}, 'condition': {'dynamic': True, 'type': 'object', 'properties': {'compare': {'type': 'object', 'enabled': False}, 'array_compare': {'type': 'object', 'enabled': False}, 'type': {'type': 'keyword'}, 'met': {'type': 'boolean'}, 'script': {'type': 'object', 'enabled': False}, 'status': {'type': 'keyword'}}}, 'transform': {'dynamic': True, 'type': 'object', 'properties': {'search': {'dynamic': True, 'type': 'object', 'properties': {'request': {'dynamic': True, 'type': 'object', 'properties': {'indices': {'type': 'keyword'}, 'types': {'type': 'keyword'}}}}}, 'type': {'type': 'keyword'}}}, 'execution_duration': {'type': 'long'}, 'actions': {'include_in_parent': True, 'dynamic': True, 'type': 'nested', 'properties': {'reason': {'type': 'keyword'}, 'foreach': {'type': 'object', 'enabled': False}, 'webhook': {'dynamic': True, 'type': 'object', 'properties': {'request': {'dynamic': True, 'type': 'object', 'properties': {'path': {'type': 'keyword'}, 'host': {'type': 'keyword'}}}}}, 'number_of_actions_executed': {'type': 'integer'}, 'slack': {'dynamic': True, 'type': 'object', 'properties': {'sent_messages': {'include_in_parent': True, 'dynamic': True, 'type': 'nested', 'properties': {'reason': {'type': 'text'}, 'request': {'type': 'object', 'enabled': False}, 'response': {'type': 'object', 'enabled': False}, 'to': {'type': 'keyword'}, 'message': {'dynamic': True, 'type': 'object', 'properties': {'attachments': {'include_in_parent': True, 'dynamic': True, 'type': 'nested', 'properties': {'color': {'type': 'keyword'}, 'fields': {'properties': {'value': {'type': 'text'}}}}}, 'icon': {'type': 'keyword'}, 'from': {'type': 'text'}, 'text': {'type': 'text'}}}, 'status': {'type': 'keyword'}}}, 'account': {'type': 'keyword'}}}, 'index': {'dynamic': True, 'type': 'object', 'properties': {'response': {'dynamic': True, 'type': 'object', 'properties': {'index': {'type': 'keyword'}, 'id': {'type': 'keyword'}, 'type': {'type': 'keyword'}}}}}, 'pagerduty': {'dynamic': True, 'type': 'object', 'properties': {'sent_event': {'include_in_parent': True, 'dynamic': True, 'type': 'nested', 'properties': {'reason': {'type': 'text'}, 'request': {'type': 'object', 'enabled': False}, 'response': {'type': 'object', 'enabled': False}, 'event': {'dynamic': True, 'type': 'object', 'properties': {'client_url': {'type': 'keyword'}, 'context': {'include_in_parent': True, 'dynamic': True, 'type': 'nested', 'properties': {'src': {'type': 'keyword'}, 'alt': {'type': 'text'}, 'href': {'type': 'keyword'}, 'type': {'type': 'keyword'}}}, 'client': {'type': 'text'}, 'description': {'type': 'text'}, 'attach_payload': {'type': 'boolean'}, 'incident_key': {'type': 'keyword'}, 'type': {'type': 'keyword'}, 'account': {'type': 'keyword'}}}}}, 'account': {'type': 'keyword'}}}, 'id': {'type': 'keyword'}, 'type': {'type': 'keyword'}, 'email': {'dynamic': True, 'type': 'object', 'properties': {'message': {'dynamic': True, 'type': 'object', 'properties': {'cc': {'type': 'keyword'}, 'bcc': {'type': 'keyword'}, 'reply_to': {'type': 'keyword'}, 'from': {'type': 'keyword'}, 'id': {'type': 'keyword'}, 'to': {'type': 'keyword'}}}}}, 'status': {'type': 'keyword'}, 'jira': {'dynamic': True, 'type': 'object', 'properties': {'result': {'dynamic': True, 'type': 'object', 'properties': {'self': {'type': 'keyword'}, 'id': {'type': 'keyword'}, 'key': {'type': 'keyword'}}}, 'reason': {'type': 'text'}, 'request': {'type': 'object', 'enabled': False}, 'response': {'type': 'object', 'enabled': False}, 'fields': {'dynamic': True, 'type': 'object', 'properties': {'summary': {'type': 'text'}, 'issuetype': {'dynamic': True, 'type': 'object', 'properties': {'name': {'type': 'keyword'}, 'id': {'type': 'keyword'}}}, 'description': {'type': 'text'}, 'project': {'dynamic': True, 'type': 'object', 'properties': {'id': {'type': 'keyword'}, 'key': {'type': 'keyword'}}}, 'labels': {'type': 'text'}}}, 'account': {'type': 'keyword'}}}}}, 'execution_time': {'type': 'date'}}}, 'node': {'type': 'keyword'}, 'input': {'type': 'object', 'enabled': False}, 'condition': {'type': 'object', 'enabled': False}, 'watch_id': {'type': 'keyword'}, 'messages': {'type': 'text'}, 'vars': {'type': 'object', 'enabled': False}, 'state': {'type': 'keyword'}, 'user': {'type': 'text'}, 'status': {'dynamic': True, 'type': 'object', 'enabled': False}}}}, 'composed_of': [], 'priority': 2147483647, 'version': 13, '_meta': {'managed': True, 'description': 'index template for watcher history indices'}, 'allow_auto_create': True}}, {'name': 'logs', 'index_template': {'index_patterns': ['logs-*-*'], 'composed_of': ['logs-mappings', 'data-streams-mappings', 'logs-settings'], 'priority': 100, 'version': 1, '_meta': {'managed': True, 'description': 'default logs template installed by x-pack'}, 'data_stream': {'hidden': False}, 'allow_auto_create': True}}, {'name': '.ml-stats', 'index_template': {'index_patterns': ['.ml-stats-*'], 'template': {'settings': {'index': {'lifecycle': {'name': 'ml-size-based-ilm-policy', 'rollover_alias': '.ml-stats-write'}, 'hidden': 'true', 'number_of_shards': '1', 'auto_expand_replicas': '0-1'}}, 'mappings': {'_meta': {'version': '7.17.28'}, 'dynamic': False, 'properties': {'skipped_docs_count': {'type': 'long'}, 'validation_loss': {'properties': {'fold_values': {'properties': {'fold': {'type': 'integer'}, 'values': {'type': 'double'}}}, 'loss_type': {'type': 'keyword'}}}, 'cache_miss_count': {'type': 'long'}, 'timing_stats': {'properties': {'iteration_time': {'type': 'long'}, 'elapsed_time': {'type': 'long'}}}, 'failure_count': {'type': 'long'}, 'model_id': {'type': 'keyword'}, 'type': {'type': 'keyword'}, 'training_docs_count': {'type': 'long'}, 'inference_count': {'type': 'long'}, 'job_id': {'type': 'keyword'}, 'missing_all_fields_count': {'type': 'long'}, 'peak_usage_bytes': {'type': 'long'}, 'iteration': {'type': 'integer'}, 'hyperparameters': {'properties': {'max_attempts_to_add_tree': {'type': 'integer'}, 'downsample_factor': {'type': 'double'}, 'eta_growth_rate_per_tree': {'type': 'double'}, 'soft_tree_depth_tolerance': {'type': 'double'}, 'max_trees': {'type': 'integer'}, 'lambda': {'type': 'double'}, 'max_optimization_rounds_per_hyperparameter': {'type': 'integer'}, 'eta': {'type': 'double'}, 'soft_tree_depth_limit': {'type': 'double'}, 'alpha': {'type': 'double'}, 'class_assignment_objective': {'type': 'keyword'}, 'feature_bag_fraction': {'type': 'double'}, 'num_splits_per_feature': {'type': 'integer'}, 'gamma': {'type': 'double'}, 'num_folds': {'type': 'integer'}}}, 'parameters': {'properties': {'compute_feature_influence': {'type': 'boolean'}, 'feature_influence_threshold': {'type': 'double'}, 'outlier_fraction': {'type': 'double'}, 'method': {'type': 'keyword'}, 'standardization_enabled': {'type': 'boolean'}, 'n_neighbors': {'type': 'integer'}}}, 'test_docs_count': {'type': 'long'}, 'node_id': {'type': 'keyword'}, 'timestamp': {'type': 'date'}}}, 'aliases': {}}, 'composed_of': [], 'priority': 2147483647, 'version': 7172899, '_meta': {'managed': True, 'description': 'index template for ML stats indices'}}}]}\n"
     ]
    },
    {
     "name": "stderr",
     "output_type": "stream",
     "text": [
      "C:\\Users\\ndtdu\\AppData\\Local\\Temp\\ipykernel_10564\\3667664720.py:1: ElasticsearchWarning: Elasticsearch built-in security features are not enabled. Without authentication, your cluster could be accessible to anyone. See https://www.elastic.co/guide/en/elasticsearch/reference/7.17/security-minimal-setup.html to enable security.\n",
      "  print(es.indices.get_index_template())\n"
     ]
    }
   ],
   "execution_count": 16
  },
  {
   "metadata": {
    "ExecuteTime": {
     "end_time": "2025-03-02T13:34:50.457464Z",
     "start_time": "2025-03-02T13:34:50.385468Z"
    }
   },
   "cell_type": "code",
   "source": [
    "index_template_name = \"bgl-template\"\n",
    "es.indices.put_index_template(\n",
    "    name=index_template_name,\n",
    "    index_patterns=[\"bgl*\"],  # Matches index names like \"logs-2024\", \"logs-xyz\", etc.\n",
    "    composed_of=[template_name],  # Links to the component template\n",
    "    priority=100,\n",
    ")"
   ],
   "id": "c759149c53438b03",
   "outputs": [
    {
     "name": "stderr",
     "output_type": "stream",
     "text": [
      "C:\\Users\\ndtdu\\AppData\\Local\\Temp\\ipykernel_10564\\1945218318.py:2: ElasticsearchWarning: Elasticsearch built-in security features are not enabled. Without authentication, your cluster could be accessible to anyone. See https://www.elastic.co/guide/en/elasticsearch/reference/7.17/security-minimal-setup.html to enable security.\n",
      "  es.indices.put_index_template(\n"
     ]
    },
    {
     "data": {
      "text/plain": [
       "ObjectApiResponse({'acknowledged': True})"
      ]
     },
     "execution_count": 13,
     "metadata": {},
     "output_type": "execute_result"
    }
   ],
   "execution_count": 13
  },
  {
   "metadata": {
    "ExecuteTime": {
     "end_time": "2025-03-02T10:16:28.137029Z",
     "start_time": "2025-03-02T10:16:28.131494Z"
    }
   },
   "cell_type": "code",
   "source": [
    "# Convert the response to a dictionary\n",
    "req_dict = req.body\n",
    "# Export the configuration to a file\n",
    "with open(\"data/BGL/bgl-template.json\", \"w\") as file:\n",
    "    json.dump(req_dict, file, indent=4)"
   ],
   "id": "40f943a58c7163b1",
   "outputs": [],
   "execution_count": 127
  },
  {
   "metadata": {
    "ExecuteTime": {
     "end_time": "2025-03-02T13:34:57.975472Z",
     "start_time": "2025-03-02T13:34:57.742338Z"
    }
   },
   "cell_type": "code",
   "source": [
    "# Get the settings of the index\n",
    "settings = es.indices.get_settings(index=index_name)\n",
    "print(settings)\n",
    "\n",
    "# Get the mappings of the index\n",
    "mappings = es.indices.get_mapping(index=index_name)\n",
    "print(mappings)\n",
    "\n",
    "# Get the applied template (Elasticsearch 7+)\n",
    "# template_response = es.indices.get_index_template(name=index_name)\n",
    "# print(template_response)"
   ],
   "id": "a6b82e5203d526ce",
   "outputs": [
    {
     "name": "stderr",
     "output_type": "stream",
     "text": [
      "C:\\Users\\ndtdu\\AppData\\Local\\Temp\\ipykernel_10564\\2537436726.py:2: ElasticsearchWarning: Elasticsearch built-in security features are not enabled. Without authentication, your cluster could be accessible to anyone. See https://www.elastic.co/guide/en/elasticsearch/reference/7.17/security-minimal-setup.html to enable security.\n",
      "  settings = es.indices.get_settings(index=index_name)\n",
      "C:\\Users\\ndtdu\\AppData\\Local\\Temp\\ipykernel_10564\\2537436726.py:6: ElasticsearchWarning: Elasticsearch built-in security features are not enabled. Without authentication, your cluster could be accessible to anyone. See https://www.elastic.co/guide/en/elasticsearch/reference/7.17/security-minimal-setup.html to enable security.\n",
      "  mappings = es.indices.get_mapping(index=index_name)\n"
     ]
    },
    {
     "name": "stdout",
     "output_type": "stream",
     "text": [
      "{'bgl': {'settings': {'index': {'routing': {'allocation': {'include': {'_tier_preference': 'data_content'}}}, 'number_of_shards': '1', 'provided_name': 'bgl', 'creation_date': '1740922234178', 'number_of_replicas': '0', 'uuid': 'CZ4eyot2RsaQOlgUnHTSTg', 'version': {'created': '7172899'}}}}}\n",
      "{'bgl': {'mappings': {'dynamic': 'false', 'properties': {'Component': {'type': 'keyword'}, 'Content': {'type': 'text'}, 'Date': {'type': 'date', 'format': 'yyyy.MM.dd'}, 'Label': {'type': 'keyword'}, 'Level': {'type': 'keyword'}, 'LineId': {'type': 'integer'}, 'Node': {'type': 'keyword'}, 'NodeRepeat': {'type': 'keyword'}, 'Time': {'type': 'date', 'format': 'yyyy-MM-dd-HH.mm.ss.SSSSSS'}, 'Timestamp': {'type': 'long'}, 'Type': {'type': 'keyword'}}}}}\n"
     ]
    },
    {
     "ename": "NotFoundError",
     "evalue": "NotFoundError(404, 'resource_not_found_exception', 'index template matching [bgl] not found')",
     "output_type": "error",
     "traceback": [
      "\u001B[1;31m---------------------------------------------------------------------------\u001B[0m",
      "\u001B[1;31mNotFoundError\u001B[0m                             Traceback (most recent call last)",
      "Cell \u001B[1;32mIn[14], line 10\u001B[0m\n\u001B[0;32m      7\u001B[0m \u001B[38;5;28mprint\u001B[39m(mappings)\n\u001B[0;32m      9\u001B[0m \u001B[38;5;66;03m# Get the applied template (Elasticsearch 7+)\u001B[39;00m\n\u001B[1;32m---> 10\u001B[0m template_response \u001B[38;5;241m=\u001B[39m \u001B[43mes\u001B[49m\u001B[38;5;241;43m.\u001B[39;49m\u001B[43mindices\u001B[49m\u001B[38;5;241;43m.\u001B[39;49m\u001B[43mget_index_template\u001B[49m\u001B[43m(\u001B[49m\u001B[43mname\u001B[49m\u001B[38;5;241;43m=\u001B[39;49m\u001B[43mindex_name\u001B[49m\u001B[43m)\u001B[49m\n\u001B[0;32m     11\u001B[0m \u001B[38;5;28mprint\u001B[39m(template_response)\n",
      "File \u001B[1;32m~\\miniconda3\\Lib\\site-packages\\elasticsearch\\_sync\\client\\utils.py:455\u001B[0m, in \u001B[0;36m_rewrite_parameters.<locals>.wrapper.<locals>.wrapped\u001B[1;34m(*args, **kwargs)\u001B[0m\n\u001B[0;32m    452\u001B[0m         \u001B[38;5;28;01mexcept\u001B[39;00m \u001B[38;5;167;01mKeyError\u001B[39;00m:\n\u001B[0;32m    453\u001B[0m             \u001B[38;5;28;01mpass\u001B[39;00m\n\u001B[1;32m--> 455\u001B[0m \u001B[38;5;28;01mreturn\u001B[39;00m \u001B[43mapi\u001B[49m\u001B[43m(\u001B[49m\u001B[38;5;241;43m*\u001B[39;49m\u001B[43margs\u001B[49m\u001B[43m,\u001B[49m\u001B[43m \u001B[49m\u001B[38;5;241;43m*\u001B[39;49m\u001B[38;5;241;43m*\u001B[39;49m\u001B[43mkwargs\u001B[49m\u001B[43m)\u001B[49m\n",
      "File \u001B[1;32m~\\miniconda3\\Lib\\site-packages\\elasticsearch\\_sync\\client\\indices.py:2299\u001B[0m, in \u001B[0;36mIndicesClient.get_index_template\u001B[1;34m(self, name, error_trace, filter_path, flat_settings, human, include_defaults, local, master_timeout, pretty)\u001B[0m\n\u001B[0;32m   2297\u001B[0m     __query[\u001B[38;5;124m\"\u001B[39m\u001B[38;5;124mpretty\u001B[39m\u001B[38;5;124m\"\u001B[39m] \u001B[38;5;241m=\u001B[39m pretty\n\u001B[0;32m   2298\u001B[0m __headers \u001B[38;5;241m=\u001B[39m {\u001B[38;5;124m\"\u001B[39m\u001B[38;5;124maccept\u001B[39m\u001B[38;5;124m\"\u001B[39m: \u001B[38;5;124m\"\u001B[39m\u001B[38;5;124mapplication/json\u001B[39m\u001B[38;5;124m\"\u001B[39m}\n\u001B[1;32m-> 2299\u001B[0m \u001B[38;5;28;01mreturn\u001B[39;00m \u001B[38;5;28;43mself\u001B[39;49m\u001B[38;5;241;43m.\u001B[39;49m\u001B[43mperform_request\u001B[49m\u001B[43m(\u001B[49m\u001B[43m  \u001B[49m\u001B[38;5;66;43;03m# type: ignore[return-value]\u001B[39;49;00m\n\u001B[0;32m   2300\u001B[0m \u001B[43m    \u001B[49m\u001B[38;5;124;43m\"\u001B[39;49m\u001B[38;5;124;43mGET\u001B[39;49m\u001B[38;5;124;43m\"\u001B[39;49m\u001B[43m,\u001B[49m\n\u001B[0;32m   2301\u001B[0m \u001B[43m    \u001B[49m\u001B[43m__path\u001B[49m\u001B[43m,\u001B[49m\n\u001B[0;32m   2302\u001B[0m \u001B[43m    \u001B[49m\u001B[43mparams\u001B[49m\u001B[38;5;241;43m=\u001B[39;49m\u001B[43m__query\u001B[49m\u001B[43m,\u001B[49m\n\u001B[0;32m   2303\u001B[0m \u001B[43m    \u001B[49m\u001B[43mheaders\u001B[49m\u001B[38;5;241;43m=\u001B[39;49m\u001B[43m__headers\u001B[49m\u001B[43m,\u001B[49m\n\u001B[0;32m   2304\u001B[0m \u001B[43m    \u001B[49m\u001B[43mendpoint_id\u001B[49m\u001B[38;5;241;43m=\u001B[39;49m\u001B[38;5;124;43m\"\u001B[39;49m\u001B[38;5;124;43mindices.get_index_template\u001B[39;49m\u001B[38;5;124;43m\"\u001B[39;49m\u001B[43m,\u001B[49m\n\u001B[0;32m   2305\u001B[0m \u001B[43m    \u001B[49m\u001B[43mpath_parts\u001B[49m\u001B[38;5;241;43m=\u001B[39;49m\u001B[43m__path_parts\u001B[49m\u001B[43m,\u001B[49m\n\u001B[0;32m   2306\u001B[0m \u001B[43m\u001B[49m\u001B[43m)\u001B[49m\n",
      "File \u001B[1;32m~\\miniconda3\\Lib\\site-packages\\elasticsearch\\_sync\\client\\_base.py:423\u001B[0m, in \u001B[0;36mNamespacedClient.perform_request\u001B[1;34m(self, method, path, params, headers, body, endpoint_id, path_parts)\u001B[0m\n\u001B[0;32m    410\u001B[0m \u001B[38;5;28;01mdef\u001B[39;00m\u001B[38;5;250m \u001B[39m\u001B[38;5;21mperform_request\u001B[39m(\n\u001B[0;32m    411\u001B[0m     \u001B[38;5;28mself\u001B[39m,\n\u001B[0;32m    412\u001B[0m     method: \u001B[38;5;28mstr\u001B[39m,\n\u001B[1;32m   (...)\u001B[0m\n\u001B[0;32m    421\u001B[0m     \u001B[38;5;66;03m# Use the internal clients .perform_request() implementation\u001B[39;00m\n\u001B[0;32m    422\u001B[0m     \u001B[38;5;66;03m# so we take advantage of their transport options.\u001B[39;00m\n\u001B[1;32m--> 423\u001B[0m     \u001B[38;5;28;01mreturn\u001B[39;00m \u001B[38;5;28;43mself\u001B[39;49m\u001B[38;5;241;43m.\u001B[39;49m\u001B[43m_client\u001B[49m\u001B[38;5;241;43m.\u001B[39;49m\u001B[43mperform_request\u001B[49m\u001B[43m(\u001B[49m\n\u001B[0;32m    424\u001B[0m \u001B[43m        \u001B[49m\u001B[43mmethod\u001B[49m\u001B[43m,\u001B[49m\n\u001B[0;32m    425\u001B[0m \u001B[43m        \u001B[49m\u001B[43mpath\u001B[49m\u001B[43m,\u001B[49m\n\u001B[0;32m    426\u001B[0m \u001B[43m        \u001B[49m\u001B[43mparams\u001B[49m\u001B[38;5;241;43m=\u001B[39;49m\u001B[43mparams\u001B[49m\u001B[43m,\u001B[49m\n\u001B[0;32m    427\u001B[0m \u001B[43m        \u001B[49m\u001B[43mheaders\u001B[49m\u001B[38;5;241;43m=\u001B[39;49m\u001B[43mheaders\u001B[49m\u001B[43m,\u001B[49m\n\u001B[0;32m    428\u001B[0m \u001B[43m        \u001B[49m\u001B[43mbody\u001B[49m\u001B[38;5;241;43m=\u001B[39;49m\u001B[43mbody\u001B[49m\u001B[43m,\u001B[49m\n\u001B[0;32m    429\u001B[0m \u001B[43m        \u001B[49m\u001B[43mendpoint_id\u001B[49m\u001B[38;5;241;43m=\u001B[39;49m\u001B[43mendpoint_id\u001B[49m\u001B[43m,\u001B[49m\n\u001B[0;32m    430\u001B[0m \u001B[43m        \u001B[49m\u001B[43mpath_parts\u001B[49m\u001B[38;5;241;43m=\u001B[39;49m\u001B[43mpath_parts\u001B[49m\u001B[43m,\u001B[49m\n\u001B[0;32m    431\u001B[0m \u001B[43m    \u001B[49m\u001B[43m)\u001B[49m\n",
      "File \u001B[1;32m~\\miniconda3\\Lib\\site-packages\\elasticsearch\\_sync\\client\\_base.py:271\u001B[0m, in \u001B[0;36mBaseClient.perform_request\u001B[1;34m(self, method, path, params, headers, body, endpoint_id, path_parts)\u001B[0m\n\u001B[0;32m    255\u001B[0m \u001B[38;5;28;01mdef\u001B[39;00m\u001B[38;5;250m \u001B[39m\u001B[38;5;21mperform_request\u001B[39m(\n\u001B[0;32m    256\u001B[0m     \u001B[38;5;28mself\u001B[39m,\n\u001B[0;32m    257\u001B[0m     method: \u001B[38;5;28mstr\u001B[39m,\n\u001B[1;32m   (...)\u001B[0m\n\u001B[0;32m    264\u001B[0m     path_parts: Optional[Mapping[\u001B[38;5;28mstr\u001B[39m, Any]] \u001B[38;5;241m=\u001B[39m \u001B[38;5;28;01mNone\u001B[39;00m,\n\u001B[0;32m    265\u001B[0m ) \u001B[38;5;241m-\u001B[39m\u001B[38;5;241m>\u001B[39m ApiResponse[Any]:\n\u001B[0;32m    266\u001B[0m     \u001B[38;5;28;01mwith\u001B[39;00m \u001B[38;5;28mself\u001B[39m\u001B[38;5;241m.\u001B[39m_otel\u001B[38;5;241m.\u001B[39mspan(\n\u001B[0;32m    267\u001B[0m         method,\n\u001B[0;32m    268\u001B[0m         endpoint_id\u001B[38;5;241m=\u001B[39mendpoint_id,\n\u001B[0;32m    269\u001B[0m         path_parts\u001B[38;5;241m=\u001B[39mpath_parts \u001B[38;5;129;01mor\u001B[39;00m {},\n\u001B[0;32m    270\u001B[0m     ) \u001B[38;5;28;01mas\u001B[39;00m otel_span:\n\u001B[1;32m--> 271\u001B[0m         response \u001B[38;5;241m=\u001B[39m \u001B[38;5;28;43mself\u001B[39;49m\u001B[38;5;241;43m.\u001B[39;49m\u001B[43m_perform_request\u001B[49m\u001B[43m(\u001B[49m\n\u001B[0;32m    272\u001B[0m \u001B[43m            \u001B[49m\u001B[43mmethod\u001B[49m\u001B[43m,\u001B[49m\n\u001B[0;32m    273\u001B[0m \u001B[43m            \u001B[49m\u001B[43mpath\u001B[49m\u001B[43m,\u001B[49m\n\u001B[0;32m    274\u001B[0m \u001B[43m            \u001B[49m\u001B[43mparams\u001B[49m\u001B[38;5;241;43m=\u001B[39;49m\u001B[43mparams\u001B[49m\u001B[43m,\u001B[49m\n\u001B[0;32m    275\u001B[0m \u001B[43m            \u001B[49m\u001B[43mheaders\u001B[49m\u001B[38;5;241;43m=\u001B[39;49m\u001B[43mheaders\u001B[49m\u001B[43m,\u001B[49m\n\u001B[0;32m    276\u001B[0m \u001B[43m            \u001B[49m\u001B[43mbody\u001B[49m\u001B[38;5;241;43m=\u001B[39;49m\u001B[43mbody\u001B[49m\u001B[43m,\u001B[49m\n\u001B[0;32m    277\u001B[0m \u001B[43m            \u001B[49m\u001B[43motel_span\u001B[49m\u001B[38;5;241;43m=\u001B[39;49m\u001B[43motel_span\u001B[49m\u001B[43m,\u001B[49m\n\u001B[0;32m    278\u001B[0m \u001B[43m        \u001B[49m\u001B[43m)\u001B[49m\n\u001B[0;32m    279\u001B[0m         otel_span\u001B[38;5;241m.\u001B[39mset_elastic_cloud_metadata(response\u001B[38;5;241m.\u001B[39mmeta\u001B[38;5;241m.\u001B[39mheaders)\n\u001B[0;32m    280\u001B[0m         \u001B[38;5;28;01mreturn\u001B[39;00m response\n",
      "File \u001B[1;32m~\\miniconda3\\Lib\\site-packages\\elasticsearch\\_sync\\client\\_base.py:352\u001B[0m, in \u001B[0;36mBaseClient._perform_request\u001B[1;34m(self, method, path, params, headers, body, otel_span)\u001B[0m\n\u001B[0;32m    349\u001B[0m         \u001B[38;5;28;01mexcept\u001B[39;00m (\u001B[38;5;167;01mValueError\u001B[39;00m, \u001B[38;5;167;01mKeyError\u001B[39;00m, \u001B[38;5;167;01mTypeError\u001B[39;00m):\n\u001B[0;32m    350\u001B[0m             \u001B[38;5;28;01mpass\u001B[39;00m\n\u001B[1;32m--> 352\u001B[0m     \u001B[38;5;28;01mraise\u001B[39;00m HTTP_EXCEPTIONS\u001B[38;5;241m.\u001B[39mget(meta\u001B[38;5;241m.\u001B[39mstatus, ApiError)(\n\u001B[0;32m    353\u001B[0m         message\u001B[38;5;241m=\u001B[39mmessage, meta\u001B[38;5;241m=\u001B[39mmeta, body\u001B[38;5;241m=\u001B[39mresp_body\n\u001B[0;32m    354\u001B[0m     )\n\u001B[0;32m    356\u001B[0m \u001B[38;5;66;03m# 'X-Elastic-Product: Elasticsearch' should be on every 2XX response.\u001B[39;00m\n\u001B[0;32m    357\u001B[0m \u001B[38;5;28;01mif\u001B[39;00m \u001B[38;5;129;01mnot\u001B[39;00m \u001B[38;5;28mself\u001B[39m\u001B[38;5;241m.\u001B[39m_verified_elasticsearch:\n\u001B[0;32m    358\u001B[0m     \u001B[38;5;66;03m# If the header is set we mark the server as verified.\u001B[39;00m\n",
      "\u001B[1;31mNotFoundError\u001B[0m: NotFoundError(404, 'resource_not_found_exception', 'index template matching [bgl] not found')"
     ]
    }
   ],
   "execution_count": 14
  },
  {
   "metadata": {
    "ExecuteTime": {
     "end_time": "2025-03-03T00:57:34.773287Z",
     "start_time": "2025-03-03T00:55:16.581499Z"
    }
   },
   "cell_type": "code",
   "source": [
    "# Load data from JSON file\n",
    "with open(\"data/BGL/BGL_2k.json\", \"r\") as file:\n",
    "    data = json.load(file)  # Assumes the JSON file contains a list of objects\n",
    "\n",
    "# Insert data into Elasticsearch\n",
    "for i, doc in enumerate(data):\n",
    "    es.index(index=index_name, id=i+1, body=doc)\n",
    "\n",
    "print(\"Data inserted successfully!\")"
   ],
   "id": "3134ea618d574b9d",
   "outputs": [
    {
     "name": "stderr",
     "output_type": "stream",
     "text": [
      "C:\\Users\\ndtdu\\AppData\\Local\\Temp\\ipykernel_10564\\3044983843.py:7: ElasticsearchWarning: Elasticsearch built-in security features are not enabled. Without authentication, your cluster could be accessible to anyone. See https://www.elastic.co/guide/en/elasticsearch/reference/7.17/security-minimal-setup.html to enable security.\n",
      "  es.index(index=index_name, id=i+1, body=doc)\n"
     ]
    },
    {
     "name": "stdout",
     "output_type": "stream",
     "text": [
      "Data inserted successfully!\n"
     ]
    }
   ],
   "execution_count": 18
  },
  {
   "metadata": {
    "ExecuteTime": {
     "end_time": "2025-03-03T00:57:35.929030Z",
     "start_time": "2025-03-03T00:57:34.872679Z"
    }
   },
   "cell_type": "code",
   "source": [
    "# Fetch all documents\n",
    "response = es.search(index=index_name, body={\"query\": {\"match_all\": {}}}, size=10)  # Fetch first 10 docs\n",
    "\n",
    "# Print results\n",
    "for hit in response['hits']['hits']:\n",
    "    print(hit[\"_source\"])  # Print document content"
   ],
   "id": "59ce48e82423b2c5",
   "outputs": [
    {
     "name": "stderr",
     "output_type": "stream",
     "text": [
      "C:\\Users\\ndtdu\\AppData\\Local\\Temp\\ipykernel_10564\\576489026.py:2: DeprecationWarning: Received 'size' via a specific parameter in the presence of a 'body' parameter, which is deprecated and will be removed in a future version. Instead, use only 'body' or only specific parameters.\n",
      "  response = es.search(index=index_name, body={\"query\": {\"match_all\": {}}}, size=10)  # Fetch first 10 docs\n"
     ]
    },
    {
     "name": "stdout",
     "output_type": "stream",
     "text": [
      "{'LineId': 0, 'Label': '-', 'Timestamp': '1117838570', 'Date': '2005.06.03', 'Node': 'R02-M1-N0-C:J12-U11', 'Time': '2005-06-03-15.42.50.675872', 'NodeRepeat': 'R02-M1-N0-C:J12-U11', 'Type': 'RAS', 'Component': 'KERNEL', 'Level': 'INFO', 'Content': 'cache parity error corrected'}\n",
      "{'LineId': 1, 'Label': '-', 'Timestamp': '1117838573', 'Date': '2005.06.03', 'Node': 'R02-M1-N0-C:J12-U11', 'Time': '2005-06-03-15.42.53.276129', 'NodeRepeat': 'R02-M1-N0-C:J12-U11', 'Type': 'RAS', 'Component': 'KERNEL', 'Level': 'INFO', 'Content': 'cache parity error corrected'}\n",
      "{'LineId': 2, 'Label': '-', 'Timestamp': '1117838976', 'Date': '2005.06.03', 'Node': 'R02-M1-N0-C:J12-U11', 'Time': '2005-06-03-15.49.36.156884', 'NodeRepeat': 'R02-M1-N0-C:J12-U11', 'Type': 'RAS', 'Component': 'KERNEL', 'Level': 'INFO', 'Content': 'cache parity error corrected'}\n",
      "{'LineId': 3, 'Label': '-', 'Timestamp': '1117838978', 'Date': '2005.06.03', 'Node': 'R02-M1-N0-C:J12-U11', 'Time': '2005-06-03-15.49.38.026704', 'NodeRepeat': 'R02-M1-N0-C:J12-U11', 'Type': 'RAS', 'Component': 'KERNEL', 'Level': 'INFO', 'Content': 'cache parity error corrected'}\n",
      "{'LineId': 4, 'Label': '-', 'Timestamp': '1117842440', 'Date': '2005.06.03', 'Node': 'R23-M0-NE-C:J05-U01', 'Time': '2005-06-03-16.47.20.730545', 'NodeRepeat': 'R23-M0-NE-C:J05-U01', 'Type': 'RAS', 'Component': 'KERNEL', 'Level': 'INFO', 'Content': 'double-hummer alignment exceptions'}\n",
      "{'LineId': 5, 'Label': '-', 'Timestamp': '1117842974', 'Date': '2005.06.03', 'Node': 'R24-M0-N1-C:J13-U11', 'Time': '2005-06-03-16.56.14.254137', 'NodeRepeat': 'R24-M0-N1-C:J13-U11', 'Type': 'RAS', 'Component': 'KERNEL', 'Level': 'INFO', 'Content': 'double-hummer alignment exceptions'}\n",
      "{'LineId': 6, 'Label': '-', 'Timestamp': '1117843015', 'Date': '2005.06.03', 'Node': 'R21-M1-N6-C:J08-U11', 'Time': '2005-06-03-16.56.55.309974', 'NodeRepeat': 'R21-M1-N6-C:J08-U11', 'Type': 'RAS', 'Component': 'KERNEL', 'Level': 'INFO', 'Content': 'double-hummer alignment exceptions'}\n",
      "{'LineId': 7, 'Label': '-', 'Timestamp': '1117848119', 'Date': '2005.06.03', 'Node': 'R16-M1-N2-C:J17-U01', 'Time': '2005-06-03-18.21.59.871925', 'NodeRepeat': 'R16-M1-N2-C:J17-U01', 'Type': 'RAS', 'Component': 'KERNEL', 'Level': 'INFO', 'Content': 'sym 2, at 0x0b85eee0, mask 0x05'}\n",
      "{'LineId': 8, 'Label': 'APPREAD', 'Timestamp': '1117869872', 'Date': '2005.06.04', 'Node': 'R04-M1-N4-I:J18-U11', 'Time': '2005-06-04-00.24.32.432192', 'NodeRepeat': 'R04-M1-N4-I:J18-U11', 'Type': 'RAS', 'Component': 'APP', 'Level': 'FATAL', 'Content': 'failed to read message prefix on control stream (CioStream socket to 172.16.96.116:33569'}\n",
      "{'LineId': 9, 'Label': 'APPREAD', 'Timestamp': '1117869876', 'Date': '2005.06.04', 'Node': 'R27-M1-N4-I:J18-U01', 'Time': '2005-06-04-00.24.36.222560', 'NodeRepeat': 'R27-M1-N4-I:J18-U01', 'Type': 'RAS', 'Component': 'APP', 'Level': 'FATAL', 'Content': 'failed to read message prefix on control stream (CioStream socket to 172.16.96.116:33370'}\n"
     ]
    },
    {
     "name": "stderr",
     "output_type": "stream",
     "text": [
      "C:\\Users\\ndtdu\\AppData\\Local\\Temp\\ipykernel_10564\\576489026.py:2: ElasticsearchWarning: Elasticsearch built-in security features are not enabled. Without authentication, your cluster could be accessible to anyone. See https://www.elastic.co/guide/en/elasticsearch/reference/7.17/security-minimal-setup.html to enable security.\n",
      "  response = es.search(index=index_name, body={\"query\": {\"match_all\": {}}}, size=10)  # Fetch first 10 docs\n"
     ]
    }
   ],
   "execution_count": 19
  }
 ],
 "metadata": {
  "kernelspec": {
   "display_name": "Python 3",
   "language": "python",
   "name": "python3"
  },
  "language_info": {
   "codemirror_mode": {
    "name": "ipython",
    "version": 2
   },
   "file_extension": ".py",
   "mimetype": "text/x-python",
   "name": "python",
   "nbconvert_exporter": "python",
   "pygments_lexer": "ipython2",
   "version": "2.7.6"
  }
 },
 "nbformat": 4,
 "nbformat_minor": 5
}
