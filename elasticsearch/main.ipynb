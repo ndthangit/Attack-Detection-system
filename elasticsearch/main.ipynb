{
 "cells": [
  {
   "metadata": {
    "ExecuteTime": {
     "end_time": "2025-04-08T11:19:55.300509Z",
     "start_time": "2025-04-08T11:19:47.491689Z"
    }
   },
   "cell_type": "code",
   "source": [
    "import sys\n",
    "from elasticsearch.helpers import BulkIndexError\n",
    "import json\n",
    "from elasticsearch import helpers,Elasticsearch\n",
    "from dotenv import load_dotenv\n",
    "import os\n",
    "import pandas as pd"
   ],
   "id": "10e4401f6c18dcff",
   "outputs": [],
   "execution_count": 1
  },
  {
   "metadata": {
    "ExecuteTime": {
     "end_time": "2025-04-08T11:19:55.337331Z",
     "start_time": "2025-04-08T11:19:55.310706Z"
    }
   },
   "cell_type": "code",
   "source": [
    "\n",
    "\n",
    "load_dotenv()\n",
    "\n",
    "client = Elasticsearch(\n",
    "    [\"https://localhost:9200\"],  # Địa chỉ Elasticsearch\n",
    "    basic_auth=(\"elastic\", os.getenv('ELASTIC_PASSWORD')),  # Thay your_password bằng ELASTIC_PASSWORD\n",
    "    # verify_certs=False  # Bỏ kiểm tra SSL (hoặc cung cấp đường dẫn CA nếu cần)\n",
    "    ca_certs=\"ca.crt\",\n",
    "    request_timeout=60\n",
    "\n",
    ")\n"
   ],
   "id": "e169e47ac41582b5",
   "outputs": [],
   "execution_count": 2
  },
  {
   "metadata": {
    "ExecuteTime": {
     "end_time": "2025-04-08T11:19:57.599004Z",
     "start_time": "2025-04-08T11:19:55.516995Z"
    }
   },
   "cell_type": "code",
   "source": "client.info()",
   "id": "54577e1f3b4e9a31",
   "outputs": [
    {
     "data": {
      "text/plain": [
       "ObjectApiResponse({'name': 'es01', 'cluster_name': 'docker-cluster', 'cluster_uuid': 'KH-rAW4aTLSEJm4gLMx3mg', 'version': {'number': '8.17.2', 'build_flavor': 'default', 'build_type': 'docker', 'build_hash': '747663ddda3421467150de0e4301e8d4bc636b0c', 'build_date': '2025-02-05T22:10:57.067596412Z', 'build_snapshot': False, 'lucene_version': '9.12.0', 'minimum_wire_compatibility_version': '7.17.0', 'minimum_index_compatibility_version': '7.0.0'}, 'tagline': 'You Know, for Search'})"
      ]
     },
     "execution_count": 3,
     "metadata": {},
     "output_type": "execute_result"
    }
   ],
   "execution_count": 3
  },
  {
   "metadata": {
    "ExecuteTime": {
     "end_time": "2025-04-08T11:19:57.615962Z",
     "start_time": "2025-04-08T11:19:57.609477Z"
    }
   },
   "cell_type": "code",
   "source": "client.ping()",
   "id": "dc4401ff547fabf4",
   "outputs": [
    {
     "data": {
      "text/plain": [
       "True"
      ]
     },
     "execution_count": 4,
     "metadata": {},
     "output_type": "execute_result"
    }
   ],
   "execution_count": 4
  },
  {
   "metadata": {
    "ExecuteTime": {
     "end_time": "2025-03-24T14:11:53.528370Z",
     "start_time": "2025-03-24T14:11:53.503055Z"
    }
   },
   "cell_type": "code",
   "source": [
    "labels = pd.read_csv(\"data/AIT_alert/labels.csv\")\n",
    "labels"
   ],
   "id": "a6f468a356a4ccc",
   "outputs": [
    {
     "data": {
      "text/plain": [
       "           scenario                attack       start         end\n",
       "0   russellmitchell         network_scans  1642993260  1642996606\n",
       "1   russellmitchell         service_scans  1642996606  1642996645\n",
       "2   russellmitchell                  dirb  1642996645  1642996668\n",
       "3   russellmitchell                wpscan  1642996668  1642996699\n",
       "4   russellmitchell              webshell  1642996699  1642996762\n",
       "..              ...                   ...         ...         ...\n",
       "74           wilson              cracking  1644232839  1644234460\n",
       "75           wilson         reverse_shell  1644234460  1644234498\n",
       "76           wilson  privilege_escalation  1644234498  1644234533\n",
       "77           wilson          service_stop  1644144435  1644144437\n",
       "78           wilson               dnsteal  1644144437  1644148037\n",
       "\n",
       "[79 rows x 4 columns]"
      ],
      "text/html": [
       "<div>\n",
       "<style scoped>\n",
       "    .dataframe tbody tr th:only-of-type {\n",
       "        vertical-align: middle;\n",
       "    }\n",
       "\n",
       "    .dataframe tbody tr th {\n",
       "        vertical-align: top;\n",
       "    }\n",
       "\n",
       "    .dataframe thead th {\n",
       "        text-align: right;\n",
       "    }\n",
       "</style>\n",
       "<table border=\"1\" class=\"dataframe\">\n",
       "  <thead>\n",
       "    <tr style=\"text-align: right;\">\n",
       "      <th></th>\n",
       "      <th>scenario</th>\n",
       "      <th>attack</th>\n",
       "      <th>start</th>\n",
       "      <th>end</th>\n",
       "    </tr>\n",
       "  </thead>\n",
       "  <tbody>\n",
       "    <tr>\n",
       "      <th>0</th>\n",
       "      <td>russellmitchell</td>\n",
       "      <td>network_scans</td>\n",
       "      <td>1642993260</td>\n",
       "      <td>1642996606</td>\n",
       "    </tr>\n",
       "    <tr>\n",
       "      <th>1</th>\n",
       "      <td>russellmitchell</td>\n",
       "      <td>service_scans</td>\n",
       "      <td>1642996606</td>\n",
       "      <td>1642996645</td>\n",
       "    </tr>\n",
       "    <tr>\n",
       "      <th>2</th>\n",
       "      <td>russellmitchell</td>\n",
       "      <td>dirb</td>\n",
       "      <td>1642996645</td>\n",
       "      <td>1642996668</td>\n",
       "    </tr>\n",
       "    <tr>\n",
       "      <th>3</th>\n",
       "      <td>russellmitchell</td>\n",
       "      <td>wpscan</td>\n",
       "      <td>1642996668</td>\n",
       "      <td>1642996699</td>\n",
       "    </tr>\n",
       "    <tr>\n",
       "      <th>4</th>\n",
       "      <td>russellmitchell</td>\n",
       "      <td>webshell</td>\n",
       "      <td>1642996699</td>\n",
       "      <td>1642996762</td>\n",
       "    </tr>\n",
       "    <tr>\n",
       "      <th>...</th>\n",
       "      <td>...</td>\n",
       "      <td>...</td>\n",
       "      <td>...</td>\n",
       "      <td>...</td>\n",
       "    </tr>\n",
       "    <tr>\n",
       "      <th>74</th>\n",
       "      <td>wilson</td>\n",
       "      <td>cracking</td>\n",
       "      <td>1644232839</td>\n",
       "      <td>1644234460</td>\n",
       "    </tr>\n",
       "    <tr>\n",
       "      <th>75</th>\n",
       "      <td>wilson</td>\n",
       "      <td>reverse_shell</td>\n",
       "      <td>1644234460</td>\n",
       "      <td>1644234498</td>\n",
       "    </tr>\n",
       "    <tr>\n",
       "      <th>76</th>\n",
       "      <td>wilson</td>\n",
       "      <td>privilege_escalation</td>\n",
       "      <td>1644234498</td>\n",
       "      <td>1644234533</td>\n",
       "    </tr>\n",
       "    <tr>\n",
       "      <th>77</th>\n",
       "      <td>wilson</td>\n",
       "      <td>service_stop</td>\n",
       "      <td>1644144435</td>\n",
       "      <td>1644144437</td>\n",
       "    </tr>\n",
       "    <tr>\n",
       "      <th>78</th>\n",
       "      <td>wilson</td>\n",
       "      <td>dnsteal</td>\n",
       "      <td>1644144437</td>\n",
       "      <td>1644148037</td>\n",
       "    </tr>\n",
       "  </tbody>\n",
       "</table>\n",
       "<p>79 rows × 4 columns</p>\n",
       "</div>"
      ]
     },
     "execution_count": 5,
     "metadata": {},
     "output_type": "execute_result"
    }
   ],
   "execution_count": 5
  },
  {
   "metadata": {
    "ExecuteTime": {
     "end_time": "2025-03-24T14:13:45.533820Z",
     "start_time": "2025-03-24T14:13:45.310912Z"
    }
   },
   "cell_type": "code",
   "source": [
    "labels = [\n",
    "    (\"network_scans\", 1642507140, 1642508220),\n",
    "    (\"service_scans\", 1642508220, 1642508267),\n",
    "    (\"wpscan\", 1642508267, 1642508310),\n",
    "    (\"dirb\", 1642508310, 1642509480),\n",
    "    (\"webshell\", 1642509480, 1642509510),\n",
    "    (\"cracking\", 1642509510, 1642511630),\n",
    "    (\"reverse_shell\", 1642511630, 1642511670),\n",
    "    (\"privilege_escalation\", 1642511670, 1642511693),\n",
    "    (\"service_stop\", 1642410286, 1642410288),\n",
    "    (\"dnsteal\", 1642410288, 1642413600)\n",
    "]\n",
    "\n",
    "\n",
    "# Đường dẫn file input và output\n",
    "input_file = \"data/AIT_alert/fox_aminer.json\"\n",
    "\n",
    "def assign_label(input_file, system_name):\n",
    "    if system_name == \"aminer\":\n",
    "        with open(f\"data/AIT_alert/{input_file}.json\", \"r\", encoding=\"utf-8\") as f_in, open(f\"data/AIT_alert/{input_file}_labeled.json\", \"w\", encoding=\"utf-8\") as f_out:\n",
    "            for line in f_in:\n",
    "                data_json = json.loads(line.strip())\n",
    "\n",
    "                # Lấy timestamp của document\n",
    "                timestamp = data_json[\"LogData\"][\"Timestamps\"][0]\n",
    "\n",
    "                # Gán nhãn phù hợp hoặc \"unknown\" nếu không khớp\n",
    "                label_assigned = \"benign\"\n",
    "                for label in labels:\n",
    "                    if label[1] < timestamp <= label[2]:\n",
    "                        label_assigned = label[0]\n",
    "                        break\n",
    "\n",
    "                # Cập nhật nhãn vào JSON\n",
    "                data_json[\"Label\"] = label_assigned\n",
    "\n",
    "                # Ghi dòng JSON đã cập nhật vào file output\n",
    "                f_out.write(json.dumps(data_json) + \"\\n\")\n",
    "\n",
    "        print(f\"Dữ liệu đã được gán nhãn và lưu vào {output_file}\")\n",
    "    # else :\n",
    "    #     with open(input_file, \"r\", encoding=\"utf-8\") as f_in, open(output_file, \"w\", encoding=\"utf-8\") as f_out:\n",
    "    #         for line in f_in:\n",
    "    #             data_json = json.loads(line.strip())\n",
    "    #\n",
    "    #             # Lấy timestamp của document\n",
    "    #             timestamp = data_json[\"timestamps\"]\n",
    "    #\n",
    "    #             # Gán nhãn phù hợp hoặc \"unknown\" nếu không khớp\n",
    "    #             label_assigned = \"benign\"\n",
    "    #             for label in labels:\n",
    "    #                 if label[1] < timestamp <= label[2]:\n",
    "    #                     label_assigned = label[0]\n",
    "    #                     break\n",
    "    #\n",
    "    #             # Cập nhật nhãn vào JSON\n",
    "    #             data_json[\"Label\"] = label_assigned\n",
    "    #\n",
    "    #             # Ghi dòng JSON đã cập nhật vào file output\n",
    "    #             f_out.write(json.dumps(data_json) + \"\\n\")\n",
    "    #\n",
    "    #     print(f\"Dữ liệu đã được gán nhãn và lưu vào {output_file}\")\n",
    "assign_label(\"fox_aminer\",\"aminer\")\n",
    "# with open(input_file, \"r\", encoding=\"utf-8\") as f_in, open(output_file, \"w\", encoding=\"utf-8\") as f_out:\n",
    "#     for line in f_in:\n",
    "#         data_json = json.loads(line.strip())\n",
    "#\n",
    "#         # Lấy timestamp của document\n",
    "#         timestamp = data_json[\"LogData\"][\"Timestamps\"][0]\n",
    "#\n",
    "#         # Gán nhãn phù hợp hoặc \"unknown\" nếu không khớp\n",
    "#         label_assigned = \"benign\"\n",
    "#         for label in labels:\n",
    "#             if label[1] <= timestamp < label[2]:\n",
    "#                 label_assigned = label[0]\n",
    "#                 break\n",
    "#\n",
    "#         # Cập nhật nhãn vào JSON\n",
    "#         data_json[\"Label\"] = label_assigned\n",
    "#\n",
    "#         # Ghi dòng JSON đã cập nhật vào file output\n",
    "#         f_out.write(json.dumps(data_json) + \"\\n\")\n",
    "#\n",
    "# print(f\"Dữ liệu đã được gán nhãn và lưu vào {output_file}\")\n"
   ],
   "id": "e434d7964b27e33",
   "outputs": [
    {
     "name": "stdout",
     "output_type": "stream",
     "text": [
      "Dữ liệu đã được gán nhãn và lưu vào data/AIT_alert/fox_aminer_labeled2.json\n"
     ]
    }
   ],
   "execution_count": 8
  },
  {
   "metadata": {
    "ExecuteTime": {
     "end_time": "2025-03-22T11:02:17.329109Z",
     "start_time": "2025-03-22T11:02:17.166057Z"
    }
   },
   "cell_type": "code",
   "source": [
    "\n",
    "resp = client.indices.put_index_template(\n",
    "    name=\"aminer-template\",\n",
    "    index_patterns=[\n",
    "        \"aminer-*\"\n",
    "    ],\n",
    "    template={\n",
    "        \"settings\": {\n",
    "            \"number_of_shards\": 1,\n",
    "            \"number_of_replicas\": 1\n",
    "        },\n",
    "        \"mappings\": {\n",
    "            \"properties\": {\n",
    "                \"AnalysisComponent\": {\n",
    "                    \"properties\": {\n",
    "                        \"AnalysisComponentIdentifier\": {\"type\": \"integer\"},\n",
    "                        \"AnalysisComponentType\": {\"type\": \"keyword\"},\n",
    "                        \"AnalysisComponentName\": {\"type\": \"text\"},\n",
    "                        \"Message\": {\"type\": \"text\"},\n",
    "                        \"PersistenceFileName\": {\"type\": \"keyword\"},\n",
    "                        \"TrainingMode\": {\"type\": \"boolean\"},\n",
    "                        \"AffectedLogAtomPaths\": {\"type\": \"keyword\"},\n",
    "                    }\n",
    "                },\n",
    "                \"LogData\": {\n",
    "                    \"properties\": {\n",
    "                        \"RawLogData\": {\"type\": \"text\"},\n",
    "                        \"Timestamps\": {\"type\": \"date\", \"format\": \"epoch_second\"},\n",
    "                        \"DetectionTimestamp\": {\"type\": \"date\", \"format\": \"epoch_second\"},\n",
    "                        \"LogLinesCount\": {\"type\": \"integer\"},\n",
    "                        \"LogResources\": {\"type\": \"keyword\"}\n",
    "                    }\n",
    "                },\n",
    "                \"AMiner\": {\n",
    "                    \"properties\": {\n",
    "                        \"ID\": {\"type\": \"ip\"}  # Nếu ID không phải là IP, đổi sang keyword\n",
    "                    }\n",
    "                },\n",
    "                \"Label\": {\"type\": \"keyword\"}  # Nhãn của dữ liệu\n",
    "            }\n",
    "        }\n",
    "    },\n",
    "    priority=102,\n",
    ")\n",
    "print(resp)"
   ],
   "id": "3f246540bae0d71",
   "outputs": [
    {
     "name": "stdout",
     "output_type": "stream",
     "text": [
      "{'acknowledged': True}\n"
     ]
    }
   ],
   "execution_count": 18
  },
  {
   "metadata": {
    "ExecuteTime": {
     "end_time": "2025-03-22T07:56:59.916098Z",
     "start_time": "2025-03-22T07:56:59.757958Z"
    }
   },
   "cell_type": "code",
   "source": [
    "\n",
    "resp = client.indices.put_index_template(\n",
    "    name=\"wazuh-template\",\n",
    "    index_patterns=[\"wazuh-*\"],  # Index pattern phù hợp\n",
    "    template={\n",
    "        \"settings\": {\n",
    "            \"number_of_shards\": 1,\n",
    "            \"number_of_replicas\": 1\n",
    "        },\n",
    "        \"mappings\": {\n",
    "            \"properties\": {\n",
    "                \"@timestamp\": {\"type\": \"date\"},  # Trường thời gian bắt buộc\n",
    "                \"predecoder\": {\n",
    "                    \"properties\": {\n",
    "                        \"hostname\": {\"type\": \"keyword\"},\n",
    "                        \"program_name\": {\"type\": \"keyword\"},\n",
    "                        \"timestamp\": {\"type\": \"text\"}  # Có thể chuyển thành \"date\" nếu cần\n",
    "                    }\n",
    "                },\n",
    "                \"agent\": {\n",
    "                    \"properties\": {\n",
    "                        \"ip\": {\"type\": \"ip\"},  # Kiểu IP\n",
    "                        \"name\": {\"type\": \"keyword\"},\n",
    "                        \"id\": {\"type\": \"keyword\"}\n",
    "                    }\n",
    "                },\n",
    "                \"manager\": {\n",
    "                    \"properties\": {\n",
    "                        \"name\": {\"type\": \"keyword\"}\n",
    "                    }\n",
    "                },\n",
    "                \"rule\": {\n",
    "                    \"properties\": {\n",
    "                        \"firedtimes\": {\"type\": \"integer\"},\n",
    "                        \"mail\": {\"type\": \"boolean\"},\n",
    "                        \"level\": {\"type\": \"integer\"},\n",
    "                        \"pci_dss\": {\"type\": \"keyword\"},  # Mảng các giá trị keyword\n",
    "                        \"tsc\": {\"type\": \"keyword\"},\n",
    "                        \"description\": {\"type\": \"text\"},\n",
    "                        \"groups\": {\"type\": \"keyword\"},\n",
    "                        \"id\": {\"type\": \"keyword\"},\n",
    "                        \"nist_800_53\": {\"type\": \"keyword\"},\n",
    "                        \"gpg13\": {\"type\": \"keyword\"},\n",
    "                        \"gdpr\": {\"type\": \"keyword\"}\n",
    "                    }\n",
    "                },\n",
    "                \"decoder\": {\n",
    "                    \"properties\": {\n",
    "                        \"name\": {\"type\": \"keyword\"}\n",
    "                    }\n",
    "                },\n",
    "                \"full_log\": {\"type\": \"text\"},  # Trường văn bản\n",
    "                \"input\": {\n",
    "                    \"properties\": {\n",
    "                        \"type\": {\"type\": \"keyword\"}\n",
    "                    }\n",
    "                },\n",
    "                \"location\": {\"type\": \"keyword\"},  # Đường dẫn file log\n",
    "                \"id\": {\"type\": \"keyword\"}  # ID của log\n",
    "            }\n",
    "        }\n",
    "    },\n",
    "    priority=102  # Ưu tiên của template\n",
    ")\n",
    "\n",
    "print(resp)"
   ],
   "id": "b2ee58aefe11a669",
   "outputs": [
    {
     "name": "stdout",
     "output_type": "stream",
     "text": [
      "{'acknowledged': True}\n"
     ]
    }
   ],
   "execution_count": 9
  },
  {
   "metadata": {
    "ExecuteTime": {
     "end_time": "2025-04-08T11:20:41.202947Z",
     "start_time": "2025-04-08T11:20:41.198536Z"
    }
   },
   "cell_type": "code",
   "source": [
    "def import_json_to_es(file_path, index_name):\n",
    "     with open(file_path, \"r\", encoding=\"utf-8\") as f:\n",
    "        count = 0\n",
    "        for line in f:\n",
    "            count += 1\n",
    "            if count == 100:\n",
    "                break\n",
    "            doc = json.loads(line.strip())\n",
    "            client.index(index=index_name, body=doc)\n",
    "    # actions = []  # Danh sách dữ liệu tạm thời để lưu batch\n",
    "    # success_count = 0\n",
    "    # failed_count = 0\n",
    "    # batch_size = 500  # Số lượng bản ghi mỗi lần đẩy\n",
    "    #\n",
    "    # try:\n",
    "    #     with open(file_path, \"r\", encoding=\"utf-8\") as f:\n",
    "    #         for line in f:\n",
    "    #             try:\n",
    "    #                 doc = json.loads(line.strip())  # Đọc từng dòng JSON\n",
    "    #                 actions.append({\n",
    "    #                     \"_index\": index_name,\n",
    "    #                     \"_op_type\": \"create\",\n",
    "    #                     \"_source\": doc\n",
    "    #                 })\n",
    "    #\n",
    "    #                 # Khi đủ batch_size, đẩy dữ liệu lên Elasticsearch\n",
    "    #                 if len(actions) >= batch_size:\n",
    "    #                     success, failed = helpers.bulk(client, actions)\n",
    "    #                     success_count += success\n",
    "    #                     failed_count += failed\n",
    "    #                     print(f\"✅ Đẩy {success} bản ghi thành công, {failed} thất bại.\")\n",
    "    #                     actions.clear()  # Xóa batch đã đẩy\n",
    "    #\n",
    "    #             except json.JSONDecodeError as e:\n",
    "    #                 failed_count += 1\n",
    "    #                 print(f\"❌ Lỗi JSON: {e}\")\n",
    "\n",
    "        # Đẩy phần còn lại (nếu có)\n",
    "        # if actions:\n",
    "        #     success, failed = helpers.bulk(client, actions)\n",
    "        #     success_count += success\n",
    "        #     failed_count += failed\n",
    "        #     print(f\"✅ Đẩy {success} bản ghi cuối cùng thành công, {failed} thất bại.\")\n",
    "        #\n",
    "        # print(f\"🎉 Hoàn thành! Tổng cộng: {success_count} thành công, {failed_count} thất bại.\")\n",
    "\n",
    "    # except Exception as e:\n",
    "    #     print(f\"❌ Lỗi khi đẩy dữ liệu lên Elasticsearch: {str(e)}\")\n",
    "\n",
    "\n",
    "\n"
   ],
   "id": "b6d82d6163fe787",
   "outputs": [],
   "execution_count": 6
  },
  {
   "metadata": {
    "ExecuteTime": {
     "end_time": "2025-04-08T11:20:45.926369Z",
     "start_time": "2025-04-08T11:20:42.992337Z"
    }
   },
   "cell_type": "code",
   "source": "import_json_to_es(\"data/AIT_alert/fox_aminer_labeled.json\", \"aminer-fox-test\")",
   "id": "cda5d7bb91d527e",
   "outputs": [],
   "execution_count": 7
  },
  {
   "metadata": {
    "ExecuteTime": {
     "end_time": "2025-03-21T05:02:27.579739Z",
     "start_time": "2025-03-21T02:59:48.984683Z"
    }
   },
   "cell_type": "code",
   "source": "import_json_to_es(\"data/AIT_alert/fox_wazuh.json\", \"wazuh-fox\")\n",
   "id": "28a90fb601902185",
   "outputs": [],
   "execution_count": 38
  },
  {
   "metadata": {},
   "cell_type": "code",
   "outputs": [],
   "execution_count": null,
   "source": "",
   "id": "2edccaac4442d6f2"
  }
 ],
 "metadata": {
  "kernelspec": {
   "display_name": "Python 3",
   "language": "python",
   "name": "python3"
  },
  "language_info": {
   "codemirror_mode": {
    "name": "ipython",
    "version": 2
   },
   "file_extension": ".py",
   "mimetype": "text/x-python",
   "name": "python",
   "nbconvert_exporter": "python",
   "pygments_lexer": "ipython2",
   "version": "2.7.6"
  }
 },
 "nbformat": 4,
 "nbformat_minor": 5
}
