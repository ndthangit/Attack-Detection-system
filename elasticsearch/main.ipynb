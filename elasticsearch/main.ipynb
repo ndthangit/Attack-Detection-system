{
 "cells": [
  {
   "metadata": {
    "ExecuteTime": {
     "end_time": "2025-03-11T02:08:35.393117Z",
     "start_time": "2025-03-11T02:08:34.757184Z"
    }
   },
   "cell_type": "code",
   "source": [
    "import sys\n",
    "from elasticsearch.helpers import BulkIndexError\n",
    "import json\n",
    "from elasticsearch import helpers,Elasticsearch\n",
    "from dotenv import load_dotenv\n",
    "import os"
   ],
   "id": "10e4401f6c18dcff",
   "outputs": [],
   "execution_count": 1
  },
  {
   "metadata": {
    "ExecuteTime": {
     "end_time": "2025-03-10T13:56:10.355059Z",
     "start_time": "2025-03-10T13:56:10.332751Z"
    }
   },
   "cell_type": "code",
   "outputs": [],
   "execution_count": 45,
   "source": [
    "\n",
    "\n",
    "load_dotenv()\n",
    "\n",
    "client = Elasticsearch(\n",
    "    [\"https://localhost:9200\"],  # Địa chỉ Elasticsearch\n",
    "    basic_auth=(\"elastic\", os.getenv('ELASTIC_PASSWORD')),  # Thay your_password bằng ELASTIC_PASSWORD\n",
    "    # verify_certs=False  # Bỏ kiểm tra SSL (hoặc cung cấp đường dẫn CA nếu cần)\n",
    "    ca_certs=\"ca.crt\",\n",
    "    request_timeout=60\n",
    "\n",
    ")\n"
   ],
   "id": "e169e47ac41582b5"
  },
  {
   "metadata": {
    "ExecuteTime": {
     "end_time": "2025-03-10T13:56:15.108216Z",
     "start_time": "2025-03-10T13:56:12.882706Z"
    }
   },
   "cell_type": "code",
   "source": "client.info()",
   "id": "54577e1f3b4e9a31",
   "outputs": [
    {
     "data": {
      "text/plain": [
       "ObjectApiResponse({'name': 'es01', 'cluster_name': 'docker-cluster', 'cluster_uuid': 'KH-rAW4aTLSEJm4gLMx3mg', 'version': {'number': '8.17.2', 'build_flavor': 'default', 'build_type': 'docker', 'build_hash': '747663ddda3421467150de0e4301e8d4bc636b0c', 'build_date': '2025-02-05T22:10:57.067596412Z', 'build_snapshot': False, 'lucene_version': '9.12.0', 'minimum_wire_compatibility_version': '7.17.0', 'minimum_index_compatibility_version': '7.0.0'}, 'tagline': 'You Know, for Search'})"
      ]
     },
     "execution_count": 46,
     "metadata": {},
     "output_type": "execute_result"
    }
   ],
   "execution_count": 46
  },
  {
   "metadata": {
    "ExecuteTime": {
     "end_time": "2025-03-10T12:42:41.470528Z",
     "start_time": "2025-03-10T12:42:41.462318Z"
    }
   },
   "cell_type": "code",
   "source": "client.ping()",
   "id": "dc4401ff547fabf4",
   "outputs": [
    {
     "data": {
      "text/plain": [
       "True"
      ]
     },
     "execution_count": 29,
     "metadata": {},
     "output_type": "execute_result"
    }
   ],
   "execution_count": 29
  },
  {
   "metadata": {
    "ExecuteTime": {
     "end_time": "2025-03-10T13:03:03.358393Z",
     "start_time": "2025-03-10T13:03:03.341812Z"
    }
   },
   "cell_type": "code",
   "source": [
    "\n",
    "resp = client.indices.put_index_template(\n",
    "    name=\"bgl-template\",\n",
    "    index_patterns=[\n",
    "        \"logs-bgl-*\"\n",
    "    ],\n",
    "    data_stream={},\n",
    "    template={\n",
    "        \"settings\": {\n",
    "            \"index.mode\": \"logsdb\",\n",
    "            \"number_of_shards\": 1,  # Giảm số shard nếu log không quá lớn\n",
    "        },\n",
    "        \"mappings\": {\n",
    "            \"properties\": {\n",
    "                \"Label\": { \"type\": \"keyword\" },\n",
    "                \"@Timestamp\": { \"type\": \"long\" },\n",
    "                \"Date\": { \"type\": \"keyword\" },\n",
    "                \"Node\": { \"type\": \"keyword\" },\n",
    "                \"Time\": { \"type\": \"date\", \"format\": \"yyyy-MM-dd-HH.mm.ss.SSSSSS\" },\n",
    "                \"NodeRepeat\": { \"type\": \"keyword\" },\n",
    "                \"Type\": { \"type\": \"keyword\" },\n",
    "                \"Component\": { \"type\": \"keyword\" },\n",
    "                \"Level\": { \"type\": \"keyword\" },\n",
    "                \"Content\": { \"type\": \"text\" }  # Hỗ trợ tìm kiếm lỗi\n",
    "            }\n",
    "        }\n",
    "    },\n",
    "    priority=101,\n",
    ")\n",
    "print(resp)"
   ],
   "id": "3f246540bae0d71",
   "outputs": [
    {
     "name": "stdout",
     "output_type": "stream",
     "text": [
      "{'acknowledged': True}\n"
     ]
    }
   ],
   "execution_count": 38
  },
  {
   "metadata": {
    "ExecuteTime": {
     "end_time": "2025-03-09T17:18:42.568929Z",
     "start_time": "2025-03-09T17:18:24.181899Z"
    }
   },
   "cell_type": "code",
   "source": [
    "\n",
    "# Đọc file log\n",
    "file_path = \"data/BGL/BGL_2k.log\"\n",
    "\n",
    "with open(file_path, \"r\", encoding=\"utf-8\") as file:\n",
    "\n",
    "    for line in file:\n",
    "\n",
    "        fields  = line.strip().split()  # Tách theo khoảng trắng\n",
    "\n",
    "        if len(fields) < 10:\n",
    "            continue  # Bỏ qua dòng không đủ dữ liệu\n",
    "\n",
    "        log_entry = {\n",
    "            \"Label\": fields[0],\n",
    "            \"@Timestamp\": int(fields[1]),\n",
    "            \"Date\": fields[2],\n",
    "            \"Node\": fields[3],\n",
    "            \"Time\": fields[4],\n",
    "            \"NodeRepeat\": fields[5],\n",
    "            \"Type\": fields[6],\n",
    "            \"Component\": fields[7],\n",
    "            \"Level\": fields[8],\n",
    "            \"Content\": \" \".join(fields[9:])  # Nội dung log có thể chứa dấu phẩy\n",
    "        }\n",
    "\n",
    "        # Ghi vào Elasticsearch\n",
    "        client.index(index=\"logs-bgl-2025.03.10\", document=log_entry)\n",
    "        # print(log_entry)\n",
    "\n",
    "print(\"Đẩy log vào Elasticsearch thành công!\")"
   ],
   "id": "f2e34a5171532088",
   "outputs": [
    {
     "name": "stdout",
     "output_type": "stream",
     "text": [
      "Đẩy log vào Elasticsearch thành công!\n"
     ]
    }
   ],
   "execution_count": 12
  },
  {
   "metadata": {
    "ExecuteTime": {
     "end_time": "2025-03-10T08:39:12.898445Z",
     "start_time": "2025-03-10T08:39:12.771227Z"
    }
   },
   "cell_type": "code",
   "source": [
    "query = {\n",
    "    \"query\": {\n",
    "        \"match\": {\n",
    "            \"Level\": \"INFO\"\n",
    "        }\n",
    "    }\n",
    "}\n",
    "\n",
    "# Gửi yêu cầu tìm kiếm\n",
    "print(client.search(index=\"logs-bgl-*\", body=query))"
   ],
   "id": "2e1445f9e2b2d0dd",
   "outputs": [
    {
     "name": "stdout",
     "output_type": "stream",
     "text": [
      "{'took': 99, 'timed_out': False, '_shards': {'total': 1, 'successful': 1, 'skipped': 0, 'failed': 0}, 'hits': {'total': {'value': 1597, 'relation': 'eq'}, 'max_score': 0.22520715, 'hits': [{'_index': '.ds-logs-bgl-2025.03.10-2025.03.09-000001', '_id': 'AZV76oVAXbZOegpCHfXT', '_score': 0.22520715, '_source': {'Label': '-', '@timestamp': 1117838570, 'Date': '2005.06.03', 'Node': 'R02-M1-N0-C:J12-U11', 'Time': '2005-06-03-15.42.50.675872', 'NodeRepeat': 'R02-M1-N0-C:J12-U11', 'Type': 'RAS', 'Component': 'KERNEL', 'Level': 'INFO', 'Content': 'instruction cache parity error corrected'}}, {'_index': '.ds-logs-bgl-2025.03.10-2025.03.09-000001', '_id': 'AZV76oVAXbZOegpDHUXU', '_score': 0.22520715, '_source': {'Label': '-', '@timestamp': 1117838573, 'Date': '2005.06.03', 'Node': 'R02-M1-N0-C:J12-U11', 'Time': '2005-06-03-15.42.53.276129', 'NodeRepeat': 'R02-M1-N0-C:J12-U11', 'Type': 'RAS', 'Component': 'KERNEL', 'Level': 'INFO', 'Content': 'instruction cache parity error corrected'}}, {'_index': '.ds-logs-bgl-2025.03.10-2025.03.09-000001', '_id': 'AZV76oVAXbZOegpDHVHV', '_score': 0.22520715, '_source': {'Label': '-', '@timestamp': 1117838976, 'Date': '2005.06.03', 'Node': 'R02-M1-N0-C:J12-U11', 'Time': '2005-06-03-15.49.36.156884', 'NodeRepeat': 'R02-M1-N0-C:J12-U11', 'Type': 'RAS', 'Component': 'KERNEL', 'Level': 'INFO', 'Content': 'instruction cache parity error corrected'}}, {'_index': '.ds-logs-bgl-2025.03.10-2025.03.09-000001', '_id': 'AZV76oVAXbZOegpDHVvW', '_score': 0.22520715, '_source': {'Label': '-', '@timestamp': 1117838978, 'Date': '2005.06.03', 'Node': 'R02-M1-N0-C:J12-U11', 'Time': '2005-06-03-15.49.38.026704', 'NodeRepeat': 'R02-M1-N0-C:J12-U11', 'Type': 'RAS', 'Component': 'KERNEL', 'Level': 'INFO', 'Content': 'instruction cache parity error corrected'}}, {'_index': '.ds-logs-bgl-2025.03.10-2025.03.09-000001', '_id': 'AZV76oVAXbZOegpDHWTX', '_score': 0.22520715, '_source': {'Label': '-', '@timestamp': 1117842440, 'Date': '2005.06.03', 'Node': 'R23-M0-NE-C:J05-U01', 'Time': '2005-06-03-16.47.20.730545', 'NodeRepeat': 'R23-M0-NE-C:J05-U01', 'Type': 'RAS', 'Component': 'KERNEL', 'Level': 'INFO', 'Content': '63543 double-hummer alignment exceptions'}}, {'_index': '.ds-logs-bgl-2025.03.10-2025.03.09-000001', '_id': 'AZV76oVAXbZOegpDHW7Y', '_score': 0.22520715, '_source': {'Label': '-', '@timestamp': 1117842974, 'Date': '2005.06.03', 'Node': 'R24-M0-N1-C:J13-U11', 'Time': '2005-06-03-16.56.14.254137', 'NodeRepeat': 'R24-M0-N1-C:J13-U11', 'Type': 'RAS', 'Component': 'KERNEL', 'Level': 'INFO', 'Content': '162 double-hummer alignment exceptions'}}, {'_index': '.ds-logs-bgl-2025.03.10-2025.03.09-000001', '_id': 'AZV76oVAXbZOegpDHXnZ', '_score': 0.22520715, '_source': {'Label': '-', '@timestamp': 1117843015, 'Date': '2005.06.03', 'Node': 'R21-M1-N6-C:J08-U11', 'Time': '2005-06-03-16.56.55.309974', 'NodeRepeat': 'R21-M1-N6-C:J08-U11', 'Type': 'RAS', 'Component': 'KERNEL', 'Level': 'INFO', 'Content': '141 double-hummer alignment exceptions'}}, {'_index': '.ds-logs-bgl-2025.03.10-2025.03.09-000001', '_id': 'AZV76oVAXbZOegpDHYLa', '_score': 0.22520715, '_source': {'Label': '-', '@timestamp': 1117848119, 'Date': '2005.06.03', 'Node': 'R16-M1-N2-C:J17-U01', 'Time': '2005-06-03-18.21.59.871925', 'NodeRepeat': 'R16-M1-N2-C:J17-U01', 'Type': 'RAS', 'Component': 'KERNEL', 'Level': 'INFO', 'Content': 'CE sym 2, at 0x0b85eee0, mask 0x05'}}, {'_index': '.ds-logs-bgl-2025.03.10-2025.03.09-000001', '_id': 'AZV76oVAXbZOegpDHZ3d', '_score': 0.22520715, '_source': {'Label': '-', '@timestamp': 1117942120, 'Date': '2005.06.04', 'Node': 'R30-M0-N7-C:J08-U01', 'Time': '2005-06-04-20.28.40.767551', 'NodeRepeat': 'R30-M0-N7-C:J08-U01', 'Type': 'RAS', 'Component': 'KERNEL', 'Level': 'INFO', 'Content': 'CE sym 20, at 0x1438f9e0, mask 0x40'}}, {'_index': '.ds-logs-bgl-2025.03.10-2025.03.09-000001', '_id': 'AZV76oVAXbZOegpDHafe', '_score': 0.22520715, '_source': {'Label': '-', '@timestamp': 1117955341, 'Date': '2005.06.05', 'Node': 'R25-M0-N7-C:J02-U01', 'Time': '2005-06-05-00.09.01.903373', 'NodeRepeat': 'R25-M0-N7-C:J02-U01', 'Type': 'RAS', 'Component': 'KERNEL', 'Level': 'INFO', 'Content': 'generating core.2275'}}]}}\n"
     ]
    }
   ],
   "execution_count": 4
  },
  {
   "metadata": {
    "ExecuteTime": {
     "end_time": "2025-03-10T15:54:11.443294Z",
     "start_time": "2025-03-10T15:50:55.803696Z"
    }
   },
   "cell_type": "code",
   "source": [
    "\n",
    "# Đọc file log\n",
    "file_path_BGL = \"data/BGL/BGL_2k.log\"\n",
    "batch_size = 1000\n",
    "actions = []\n",
    "\n",
    "with open(file_path_BGL, \"r\", encoding=\"utf-8\") as file:\n",
    "\n",
    "    for line in file:\n",
    "\n",
    "        fields  = line.strip().split()  # Tách theo khoảng trắng\n",
    "\n",
    "        if len(fields) < 10:\n",
    "            continue  # Bỏ qua dòng không đủ dữ liệu\n",
    "\n",
    "        log_entry = {\n",
    "            \"_index\": \"logs-bgl-stream\",  # Tên phải khớp với index_patterns \"logs-bgl-*\"\n",
    "            \"_op_type\": \"create\",\n",
    "            \"_source\": {\n",
    "                \"Label\": fields[0],\n",
    "                \"@timestamp\": int(fields[1]),\n",
    "                \"Date\": fields[2],\n",
    "                \"Node\": fields[3],\n",
    "                \"Time\": fields[4],\n",
    "                \"NodeRepeat\": fields[5],\n",
    "                \"Type\": fields[6],\n",
    "                \"Component\": fields[7],\n",
    "                \"Level\": fields[8],\n",
    "                \"Content\": \" \".join(fields[9:])  # Nội dung log có thể chứa dấu phẩy\n",
    "            }\n",
    "        }\n",
    "        # print(log_entry)\n",
    "        #\n",
    "        # break\n",
    "        actions.append(log_entry)\n",
    "\n",
    "        # Gửi dữ liệu sau mỗi batch_size log\n",
    "        if actions:\n",
    "            try:\n",
    "                helpers.bulk(client, actions)\n",
    "            except BulkIndexError as e:\n",
    "                print(\"Lỗi khi đẩy dữ liệu:\")\n",
    "                for error in e.errors[:5]:  # In 5 lỗi đầu tiên\n",
    "                    print(json.dumps(error, indent=2))\n",
    "                print(f\"Đã dừng quá trình do lỗi trên. Tổng số lỗi: {len(e.errors)}\")\n",
    "                sys.exit(1)  # Thoát chương trình với mã lỗi 1\n",
    "\n",
    "    # Gửi phần còn lại nếu còn log\n",
    "    if actions:\n",
    "        try:\n",
    "            helpers.bulk(client, actions)\n",
    "        except BulkIndexError as e:\n",
    "            print(\"Lỗi khi đẩy dữ liệu:\")\n",
    "            for error in e.errors[:5]:  # In 5 lỗi đầu tiên\n",
    "                print(json.dumps(error, indent=2))\n",
    "            print(f\"Đã dừng quá trình do lỗi trên. Tổng số lỗi: {len(e.errors)}\")\n",
    "            sys.exit(1)  # Thoát chương trình với mã lỗi 1\n",
    "\n",
    "\n",
    "print(\"Đẩy log vào Elasticsearch thành công!\")"
   ],
   "id": "c093b2caf63b49ed",
   "outputs": [
    {
     "name": "stdout",
     "output_type": "stream",
     "text": [
      "Đẩy log vào Elasticsearch thành công!\n"
     ]
    }
   ],
   "execution_count": 48
  },
  {
   "metadata": {
    "ExecuteTime": {
     "end_time": "2025-03-10T16:00:35.060245Z",
     "start_time": "2025-03-10T15:59:32.657068Z"
    }
   },
   "cell_type": "code",
   "source": [
    "\n",
    "\n",
    "query = {\n",
    "    \"query\": {\n",
    "        \"match_all\": {}\n",
    "    }\n",
    "}\n",
    "\n",
    "# Lấy toàn bộ dữ liệu với helpers.scan() để tránh giới hạn `size`\n",
    "logs = []\n",
    "for hit in helpers.scan(client, index=\"logs-bgl-stream\", query=query):\n",
    "    logs.append(hit[\"_source\"])  # Lấy toàn bộ _source\n",
    "\n",
    "# Ghi dữ liệu vào file JSON\n",
    "with open(\"data/BGL/BGL_2k.json\", \"w\", encoding=\"utf-8\") as f:\n",
    "    json.dump(logs, f, indent=4, ensure_ascii=False)\n",
    "\n",
    "print(f\"✅ Xuất {len(logs)} log vào logs_output.json thành công!\")"
   ],
   "id": "e94c08fe2525ad99",
   "outputs": [
    {
     "name": "stdout",
     "output_type": "stream",
     "text": [
      "✅ Xuất 2003000 log vào logs_output.json thành công!\n"
     ]
    }
   ],
   "execution_count": 49
  },
  {
   "metadata": {
    "ExecuteTime": {
     "end_time": "2025-03-10T16:32:14.194472Z",
     "start_time": "2025-03-10T16:31:58.490872Z"
    }
   },
   "cell_type": "code",
   "source": [
    "\n",
    "\n",
    "# Read the JSON file\n",
    "with open('data/BGL/BGL_2k.json', 'r', encoding='utf-8') as json_file:\n",
    "    data = json.load(json_file)\n",
    "\n",
    "# Open a new file for writing in JSON Lines format\n",
    "with open('data/BGL/BGL_2k.jsonl', 'w', encoding='utf-8') as jsonl_file:\n",
    "    for item in data:\n",
    "        jsonl_file.write(json.dumps(item) + '\\n')\n",
    "\n",
    "print(\"Conversion to JSON Lines format completed successfully!\")\n"
   ],
   "id": "4469c8c809f33553",
   "outputs": [
    {
     "name": "stdout",
     "output_type": "stream",
     "text": [
      "Conversion to JSON Lines format completed successfully!\n"
     ]
    }
   ],
   "execution_count": 50
  },
  {
   "metadata": {
    "ExecuteTime": {
     "end_time": "2025-03-11T02:30:41.455478Z",
     "start_time": "2025-03-11T02:10:06.551166Z"
    }
   },
   "cell_type": "code",
   "source": [
    "import psycopg2\n",
    "\n",
    "\n",
    "\n",
    "# Kết nối PostgreSQL\n",
    "conn = psycopg2.connect(\n",
    "    dbname=\"detection-db\",\n",
    "    user=\"postgres\",\n",
    "    password=\"postgres\",\n",
    "    host=\"localhost\",\n",
    "    port=\"5433\"\n",
    ")\n",
    "cursor = conn.cursor()\n",
    "# Kiểm tra kết nối\n",
    "cursor.execute(\"SELECT version();\")\n",
    "print(\"Connected to:\", cursor.fetchone()[0])\n",
    "\n",
    "# Đọc file JSON theo dòng và chèn vào PostgreSQL\n",
    "with open(\"data/BGL/BGL_2k.jsonl\", \"r\") as f:\n",
    "    for line in f:\n",
    "\n",
    "        record = json.loads(line.strip())  # Chuyển mỗi dòng JSON thành dict\n",
    "        query = \"INSERT INTO logs_bgl (logs_data) VALUES (%s);\"\n",
    "        cursor.execute(query, (json.dumps(record),))  # Chuyển dict thành JSON string\n",
    "# Commit và đóng kết nối\n",
    "conn.commit()\n",
    "cursor.close()\n",
    "conn.close()"
   ],
   "id": "318e3ea4fd57a989",
   "outputs": [
    {
     "name": "stdout",
     "output_type": "stream",
     "text": [
      "Connected to: PostgreSQL 17.2 (Debian 17.2-1.pgdg120+1) on x86_64-pc-linux-gnu, compiled by gcc (Debian 12.2.0-14) 12.2.0, 64-bit\n"
     ]
    }
   ],
   "execution_count": 4
  },
  {
   "metadata": {},
   "cell_type": "code",
   "outputs": [],
   "execution_count": null,
   "source": "# client.indices.delete(index=\"logs-bgl-full\")",
   "id": "dc4e1bff08915cd6"
  }
 ],
 "metadata": {
  "kernelspec": {
   "display_name": "Python 3",
   "language": "python",
   "name": "python3"
  },
  "language_info": {
   "codemirror_mode": {
    "name": "ipython",
    "version": 2
   },
   "file_extension": ".py",
   "mimetype": "text/x-python",
   "name": "python",
   "nbconvert_exporter": "python",
   "pygments_lexer": "ipython2",
   "version": "2.7.6"
  }
 },
 "nbformat": 4,
 "nbformat_minor": 5
}
